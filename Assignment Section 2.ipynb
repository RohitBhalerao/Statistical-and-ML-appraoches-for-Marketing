{
 "cells": [
  {
   "cell_type": "markdown",
   "id": "duplicate-catch",
   "metadata": {},
   "source": [
    "# Question 6 Page 170"
   ]
  },
  {
   "cell_type": "markdown",
   "id": "olympic-breakfast",
   "metadata": {},
   "source": [
    "Suppose we collect data for a group of students in a statistics class with variables \n",
    "\n",
    "X1 = hours studied,\n",
    "\n",
    "X2 = undergrad GPA, and\n",
    "\n",
    "Y = receive an A. \n",
    "\n",
    "We fit a logistic regression and produce estimated coefficient,\n",
    "\n",
    "ˆβ0 = −6, ˆβ1 = 0.05, ˆβ2 = 1.\n",
    "\n",
    "(a) Estimate the probability that a student who studies for 40 h and has an undergrad GPA of 3.5 gets an A in the class."
   ]
  },
  {
   "cell_type": "code",
   "execution_count": 1,
   "id": "broke-maker",
   "metadata": {},
   "outputs": [
    {
     "name": "stdout",
     "output_type": "stream",
     "text": [
      "Estimated probability of getting an A :  0.3775096"
     ]
    }
   ],
   "source": [
    "e = 2.719\n",
    "X1 = 40\n",
    "X2 = 3.5\n",
    "\n",
    "B0 = -6\n",
    "B1 = 0.05\n",
    "B2 = 1\n",
    "\n",
    "p = (e**(B0 + B1*X1 + X2)) / (1 + (e**(B0 + B1*X1 + X2)))\n",
    "cat(\"Estimated probability of getting an A : \", p)"
   ]
  },
  {
   "cell_type": "markdown",
   "id": "every-corrections",
   "metadata": {},
   "source": [
    "(b) How many hours would the student in part (a) need to study to have a 50 % chance of getting an A in the class?"
   ]
  },
  {
   "cell_type": "markdown",
   "id": "sought-cuisine",
   "metadata": {},
   "source": [
    "p = 0.5\n",
    "\n",
    "B0 = -6 \\\n",
    "B1 = 0.05 \\\n",
    "B2 = 1 \\\n",
    "\n",
    "(e^(B0 + B1 * X1 + X2)) / (1 + (e^(B0 + B1 * X1 + X2))) = 0.5 \\\n",
    "Therefore, \\\n",
    "(e^(B0 + B1 * X1 + X2)) = 1 \\\n",
    "(B0 + B1 * X1 + X2) = 0 "
   ]
  },
  {
   "cell_type": "code",
   "execution_count": 2,
   "id": "typical-associate",
   "metadata": {},
   "outputs": [
    {
     "name": "stdout",
     "output_type": "stream",
     "text": [
      "Estimated number of hours to study :  50"
     ]
    }
   ],
   "source": [
    "X1 = 2.5 / 0.05\n",
    "cat(\"Estimated number of hours to study : \", X1)"
   ]
  },
  {
   "cell_type": "markdown",
   "id": "partial-combining",
   "metadata": {},
   "source": [
    "# Question 8 Page 170"
   ]
  },
  {
   "cell_type": "markdown",
   "id": "chicken-elizabeth",
   "metadata": {},
   "source": [
    "Suppose that we take a data set, divide it into equally sized training and test sets, and then try out two different classification procedures. \n",
    "\n",
    "First we use logistic regression and get an error rate of 20 % on the training data and 30 % on the test data. \n",
    "\n",
    "Next we use 1-nearest neighbors (i.e. K = 1) and get an average error rate (averaged over bothtest and training data sets) of 18%. \n",
    "\n",
    "Based on these results, which method should we prefer to use for classification of new observations? Why?"
   ]
  },
  {
   "cell_type": "markdown",
   "id": "finite-edmonton",
   "metadata": {},
   "source": [
    "For Logistic Regression : \\\n",
    "Training error = 20% \\\n",
    "Testing error = 30% \n",
    "\n",
    "For KNN (n = 1) : \\\n",
    "Training error = 0% (Overfitting) \\\n",
    "Average error = 18% \\\n",
    "Therefor, Testing error = 36%\n",
    "\n",
    "It is better to use logistic regression (classification).\n"
   ]
  },
  {
   "cell_type": "markdown",
   "id": "substantial-database",
   "metadata": {},
   "source": [
    "# Question 9 Page 170"
   ]
  },
  {
   "cell_type": "markdown",
   "id": "documentary-bottom",
   "metadata": {},
   "source": [
    "This problem has to do with odds.\n",
    "\n",
    "(a) On average, what fraction of people with an odds of 0.37 of defaulting on their credit card payment will in fact default?"
   ]
  },
  {
   "cell_type": "code",
   "execution_count": 3,
   "id": "every-hungarian",
   "metadata": {},
   "outputs": [
    {
     "name": "stdout",
     "output_type": "stream",
     "text": [
      "Percent of people that will default :  0.270073"
     ]
    }
   ],
   "source": [
    "p_X = 0.37\n",
    "\n",
    "fraction = p_X / (1 + p_X)\n",
    "\n",
    "cat(\"Percent of people that will default : \", fraction)"
   ]
  },
  {
   "cell_type": "markdown",
   "id": "artificial-peoples",
   "metadata": {},
   "source": [
    "(b) Suppose that an individual has a 16 % chance of defaulting on her credit card payment. What are the odds that she will default?"
   ]
  },
  {
   "cell_type": "code",
   "execution_count": 4,
   "id": "downtown-toronto",
   "metadata": {},
   "outputs": [
    {
     "name": "stdout",
     "output_type": "stream",
     "text": [
      "Percent chance of defaulting :  19.04762"
     ]
    }
   ],
   "source": [
    "p_X = 0.16\n",
    "\n",
    "fraction = p_X / (1 - p_X)\n",
    "\n",
    "cat(\"Percent chance of defaulting : \", fraction*100)"
   ]
  },
  {
   "cell_type": "markdown",
   "id": "numeric-george",
   "metadata": {},
   "source": [
    "# Question 10 Page 171"
   ]
  },
  {
   "cell_type": "markdown",
   "id": "wireless-influence",
   "metadata": {},
   "source": [
    "This question should be answered using the Weekly data set, which is part of the ISLR package. This data is similar in nature to the Smarket data from this chapter’s lab, except that it contains 1,089 weekly returns for 21 years, from the beginning of 1990 to the end of 2010."
   ]
  },
  {
   "cell_type": "code",
   "execution_count": 5,
   "id": "cathedral-ratio",
   "metadata": {},
   "outputs": [
    {
     "name": "stderr",
     "output_type": "stream",
     "text": [
      "Warning message:\n",
      "\"package 'ISLR' was built under R version 3.6.3\""
     ]
    },
    {
     "data": {
      "text/html": [
       "<table>\n",
       "<thead><tr><th scope=col>Year</th><th scope=col>Lag1</th><th scope=col>Lag2</th><th scope=col>Lag3</th><th scope=col>Lag4</th><th scope=col>Lag5</th><th scope=col>Volume</th><th scope=col>Today</th><th scope=col>Direction</th></tr></thead>\n",
       "<tbody>\n",
       "\t<tr><td>1990     </td><td> 0.816   </td><td> 1.572   </td><td>-3.936   </td><td>-0.229   </td><td>-3.484   </td><td>0.1549760</td><td>-0.270   </td><td>Down     </td></tr>\n",
       "\t<tr><td>1990     </td><td>-0.270   </td><td> 0.816   </td><td> 1.572   </td><td>-3.936   </td><td>-0.229   </td><td>0.1485740</td><td>-2.576   </td><td>Down     </td></tr>\n",
       "\t<tr><td>1990     </td><td>-2.576   </td><td>-0.270   </td><td> 0.816   </td><td> 1.572   </td><td>-3.936   </td><td>0.1598375</td><td> 3.514   </td><td>Up       </td></tr>\n",
       "\t<tr><td>1990     </td><td> 3.514   </td><td>-2.576   </td><td>-0.270   </td><td> 0.816   </td><td> 1.572   </td><td>0.1616300</td><td> 0.712   </td><td>Up       </td></tr>\n",
       "\t<tr><td>1990     </td><td> 0.712   </td><td> 3.514   </td><td>-2.576   </td><td>-0.270   </td><td> 0.816   </td><td>0.1537280</td><td> 1.178   </td><td>Up       </td></tr>\n",
       "\t<tr><td>1990     </td><td> 1.178   </td><td> 0.712   </td><td> 3.514   </td><td>-2.576   </td><td>-0.270   </td><td>0.1544440</td><td>-1.372   </td><td>Down     </td></tr>\n",
       "\t<tr><td>1990     </td><td>-1.372   </td><td> 1.178   </td><td> 0.712   </td><td> 3.514   </td><td>-2.576   </td><td>0.1517220</td><td> 0.807   </td><td>Up       </td></tr>\n",
       "\t<tr><td>1990     </td><td> 0.807   </td><td>-1.372   </td><td> 1.178   </td><td> 0.712   </td><td> 3.514   </td><td>0.1323100</td><td> 0.041   </td><td>Up       </td></tr>\n",
       "\t<tr><td>1990     </td><td> 0.041   </td><td> 0.807   </td><td>-1.372   </td><td> 1.178   </td><td> 0.712   </td><td>0.1439720</td><td> 1.253   </td><td>Up       </td></tr>\n",
       "\t<tr><td>1990     </td><td> 1.253   </td><td> 0.041   </td><td> 0.807   </td><td>-1.372   </td><td> 1.178   </td><td>0.1336350</td><td>-2.678   </td><td>Down     </td></tr>\n",
       "</tbody>\n",
       "</table>\n"
      ],
      "text/latex": [
       "\\begin{tabular}{r|lllllllll}\n",
       " Year & Lag1 & Lag2 & Lag3 & Lag4 & Lag5 & Volume & Today & Direction\\\\\n",
       "\\hline\n",
       "\t 1990      &  0.816    &  1.572    & -3.936    & -0.229    & -3.484    & 0.1549760 & -0.270    & Down     \\\\\n",
       "\t 1990      & -0.270    &  0.816    &  1.572    & -3.936    & -0.229    & 0.1485740 & -2.576    & Down     \\\\\n",
       "\t 1990      & -2.576    & -0.270    &  0.816    &  1.572    & -3.936    & 0.1598375 &  3.514    & Up       \\\\\n",
       "\t 1990      &  3.514    & -2.576    & -0.270    &  0.816    &  1.572    & 0.1616300 &  0.712    & Up       \\\\\n",
       "\t 1990      &  0.712    &  3.514    & -2.576    & -0.270    &  0.816    & 0.1537280 &  1.178    & Up       \\\\\n",
       "\t 1990      &  1.178    &  0.712    &  3.514    & -2.576    & -0.270    & 0.1544440 & -1.372    & Down     \\\\\n",
       "\t 1990      & -1.372    &  1.178    &  0.712    &  3.514    & -2.576    & 0.1517220 &  0.807    & Up       \\\\\n",
       "\t 1990      &  0.807    & -1.372    &  1.178    &  0.712    &  3.514    & 0.1323100 &  0.041    & Up       \\\\\n",
       "\t 1990      &  0.041    &  0.807    & -1.372    &  1.178    &  0.712    & 0.1439720 &  1.253    & Up       \\\\\n",
       "\t 1990      &  1.253    &  0.041    &  0.807    & -1.372    &  1.178    & 0.1336350 & -2.678    & Down     \\\\\n",
       "\\end{tabular}\n"
      ],
      "text/markdown": [
       "\n",
       "| Year | Lag1 | Lag2 | Lag3 | Lag4 | Lag5 | Volume | Today | Direction |\n",
       "|---|---|---|---|---|---|---|---|---|\n",
       "| 1990      |  0.816    |  1.572    | -3.936    | -0.229    | -3.484    | 0.1549760 | -0.270    | Down      |\n",
       "| 1990      | -0.270    |  0.816    |  1.572    | -3.936    | -0.229    | 0.1485740 | -2.576    | Down      |\n",
       "| 1990      | -2.576    | -0.270    |  0.816    |  1.572    | -3.936    | 0.1598375 |  3.514    | Up        |\n",
       "| 1990      |  3.514    | -2.576    | -0.270    |  0.816    |  1.572    | 0.1616300 |  0.712    | Up        |\n",
       "| 1990      |  0.712    |  3.514    | -2.576    | -0.270    |  0.816    | 0.1537280 |  1.178    | Up        |\n",
       "| 1990      |  1.178    |  0.712    |  3.514    | -2.576    | -0.270    | 0.1544440 | -1.372    | Down      |\n",
       "| 1990      | -1.372    |  1.178    |  0.712    |  3.514    | -2.576    | 0.1517220 |  0.807    | Up        |\n",
       "| 1990      |  0.807    | -1.372    |  1.178    |  0.712    |  3.514    | 0.1323100 |  0.041    | Up        |\n",
       "| 1990      |  0.041    |  0.807    | -1.372    |  1.178    |  0.712    | 0.1439720 |  1.253    | Up        |\n",
       "| 1990      |  1.253    |  0.041    |  0.807    | -1.372    |  1.178    | 0.1336350 | -2.678    | Down      |\n",
       "\n"
      ],
      "text/plain": [
       "   Year Lag1   Lag2   Lag3   Lag4   Lag5   Volume    Today  Direction\n",
       "1  1990  0.816  1.572 -3.936 -0.229 -3.484 0.1549760 -0.270 Down     \n",
       "2  1990 -0.270  0.816  1.572 -3.936 -0.229 0.1485740 -2.576 Down     \n",
       "3  1990 -2.576 -0.270  0.816  1.572 -3.936 0.1598375  3.514 Up       \n",
       "4  1990  3.514 -2.576 -0.270  0.816  1.572 0.1616300  0.712 Up       \n",
       "5  1990  0.712  3.514 -2.576 -0.270  0.816 0.1537280  1.178 Up       \n",
       "6  1990  1.178  0.712  3.514 -2.576 -0.270 0.1544440 -1.372 Down     \n",
       "7  1990 -1.372  1.178  0.712  3.514 -2.576 0.1517220  0.807 Up       \n",
       "8  1990  0.807 -1.372  1.178  0.712  3.514 0.1323100  0.041 Up       \n",
       "9  1990  0.041  0.807 -1.372  1.178  0.712 0.1439720  1.253 Up       \n",
       "10 1990  1.253  0.041  0.807 -1.372  1.178 0.1336350 -2.678 Down     "
      ]
     },
     "metadata": {},
     "output_type": "display_data"
    }
   ],
   "source": [
    "library(ISLR)\n",
    "head(Weekly, n = 10)"
   ]
  },
  {
   "cell_type": "markdown",
   "id": "waiting-bottle",
   "metadata": {},
   "source": [
    "(a) Produce some numerical and graphical summaries of the Weekly data. Do there appear to be any patterns?"
   ]
  },
  {
   "cell_type": "code",
   "execution_count": 6,
   "id": "promotional-change",
   "metadata": {},
   "outputs": [
    {
     "data": {
      "text/plain": [
       "      Year           Lag1               Lag2               Lag3         \n",
       " Min.   :1990   Min.   :-18.1950   Min.   :-18.1950   Min.   :-18.1950  \n",
       " 1st Qu.:1995   1st Qu.: -1.1540   1st Qu.: -1.1540   1st Qu.: -1.1580  \n",
       " Median :2000   Median :  0.2410   Median :  0.2410   Median :  0.2410  \n",
       " Mean   :2000   Mean   :  0.1506   Mean   :  0.1511   Mean   :  0.1472  \n",
       " 3rd Qu.:2005   3rd Qu.:  1.4050   3rd Qu.:  1.4090   3rd Qu.:  1.4090  \n",
       " Max.   :2010   Max.   : 12.0260   Max.   : 12.0260   Max.   : 12.0260  \n",
       "      Lag4               Lag5              Volume            Today         \n",
       " Min.   :-18.1950   Min.   :-18.1950   Min.   :0.08747   Min.   :-18.1950  \n",
       " 1st Qu.: -1.1580   1st Qu.: -1.1660   1st Qu.:0.33202   1st Qu.: -1.1540  \n",
       " Median :  0.2380   Median :  0.2340   Median :1.00268   Median :  0.2410  \n",
       " Mean   :  0.1458   Mean   :  0.1399   Mean   :1.57462   Mean   :  0.1499  \n",
       " 3rd Qu.:  1.4090   3rd Qu.:  1.4050   3rd Qu.:2.05373   3rd Qu.:  1.4050  \n",
       " Max.   : 12.0260   Max.   : 12.0260   Max.   :9.32821   Max.   : 12.0260  \n",
       " Direction \n",
       " Down:484  \n",
       " Up  :605  \n",
       "           \n",
       "           \n",
       "           \n",
       "           "
      ]
     },
     "metadata": {},
     "output_type": "display_data"
    }
   ],
   "source": [
    "summary(Weekly)"
   ]
  },
  {
   "cell_type": "code",
   "execution_count": 7,
   "id": "crucial-validation",
   "metadata": {},
   "outputs": [
    {
     "data": {
      "image/png": "[encoded data removed]",
      "text/plain": [
       "plot without title"
      ]
     },
     "metadata": {},
     "output_type": "display_data"
    }
   ],
   "source": [
    "cols <- rep('blue', nrow(Weekly))  # Not default\n",
    "cols[Weekly$default == 'Yes'] <- 'red'  # Default\n",
    "pairs(Weekly, col=cols)"
   ]
  },
  {
   "cell_type": "markdown",
   "id": "driving-democracy",
   "metadata": {},
   "source": [
    "(b) Use the full data set to perform a logistic regression with Direction as the response and the five lag variables plus Volume as predictors. Use the summary function to print the results. Do any of the predictors appear to be statistically significant? If so, which ones?"
   ]
  },
  {
   "cell_type": "code",
   "execution_count": 8,
   "id": "harmful-negotiation",
   "metadata": {},
   "outputs": [
    {
     "data": {
      "text/html": [
       "<ol class=list-inline>\n",
       "\t<li>'Year'</li>\n",
       "\t<li>'Lag1'</li>\n",
       "\t<li>'Lag2'</li>\n",
       "\t<li>'Lag3'</li>\n",
       "\t<li>'Lag4'</li>\n",
       "\t<li>'Lag5'</li>\n",
       "\t<li>'Volume'</li>\n",
       "\t<li>'Today'</li>\n",
       "\t<li>'Direction'</li>\n",
       "</ol>\n"
      ],
      "text/latex": [
       "\\begin{enumerate*}\n",
       "\\item 'Year'\n",
       "\\item 'Lag1'\n",
       "\\item 'Lag2'\n",
       "\\item 'Lag3'\n",
       "\\item 'Lag4'\n",
       "\\item 'Lag5'\n",
       "\\item 'Volume'\n",
       "\\item 'Today'\n",
       "\\item 'Direction'\n",
       "\\end{enumerate*}\n"
      ],
      "text/markdown": [
       "1. 'Year'\n",
       "2. 'Lag1'\n",
       "3. 'Lag2'\n",
       "4. 'Lag3'\n",
       "5. 'Lag4'\n",
       "6. 'Lag5'\n",
       "7. 'Volume'\n",
       "8. 'Today'\n",
       "9. 'Direction'\n",
       "\n",
       "\n"
      ],
      "text/plain": [
       "[1] \"Year\"      \"Lag1\"      \"Lag2\"      \"Lag3\"      \"Lag4\"      \"Lag5\"     \n",
       "[7] \"Volume\"    \"Today\"     \"Direction\""
      ]
     },
     "metadata": {},
     "output_type": "display_data"
    }
   ],
   "source": [
    "colnames(Weekly)"
   ]
  },
  {
   "cell_type": "code",
   "execution_count": 9,
   "id": "imported-benjamin",
   "metadata": {},
   "outputs": [
    {
     "data": {
      "text/plain": [
       "\n",
       "Call:\n",
       "glm(formula = Direction ~ Lag1 + Lag2 + Lag3 + Lag4 + Lag5 + \n",
       "    Volume, family = binomial, data = Weekly)\n",
       "\n",
       "Deviance Residuals: \n",
       "    Min       1Q   Median       3Q      Max  \n",
       "-1.6949  -1.2565   0.9913   1.0849   1.4579  \n",
       "\n",
       "Coefficients:\n",
       "            Estimate Std. Error z value Pr(>|z|)   \n",
       "(Intercept)  0.26686    0.08593   3.106   0.0019 **\n",
       "Lag1        -0.04127    0.02641  -1.563   0.1181   \n",
       "Lag2         0.05844    0.02686   2.175   0.0296 * \n",
       "Lag3        -0.01606    0.02666  -0.602   0.5469   \n",
       "Lag4        -0.02779    0.02646  -1.050   0.2937   \n",
       "Lag5        -0.01447    0.02638  -0.549   0.5833   \n",
       "Volume      -0.02274    0.03690  -0.616   0.5377   \n",
       "---\n",
       "Signif. codes:  0 '***' 0.001 '**' 0.01 '*' 0.05 '.' 0.1 ' ' 1\n",
       "\n",
       "(Dispersion parameter for binomial family taken to be 1)\n",
       "\n",
       "    Null deviance: 1496.2  on 1088  degrees of freedom\n",
       "Residual deviance: 1486.4  on 1082  degrees of freedom\n",
       "AIC: 1500.4\n",
       "\n",
       "Number of Fisher Scoring iterations: 4\n"
      ]
     },
     "metadata": {},
     "output_type": "display_data"
    }
   ],
   "source": [
    "#model_a <- glm(Direction ~ ., data = Weekly, family = binomial)\n",
    "model_a <- glm(Direction ~ Lag1 + Lag2 + Lag3 + Lag4 + Lag5 + Volume, data = Weekly, family = binomial)\n",
    "summary(model_a)"
   ]
  },
  {
   "cell_type": "markdown",
   "id": "solved-subdivision",
   "metadata": {},
   "source": [
    "Only Lag2 is statistically significant."
   ]
  },
  {
   "cell_type": "markdown",
   "id": "isolated-sullivan",
   "metadata": {},
   "source": [
    "(c) Compute the confusion matrix and overall fraction of correct predictions. Explain what the confusion matrix is telling you about the types of mistakes made by logistic regression."
   ]
  },
  {
   "cell_type": "code",
   "execution_count": 10,
   "id": "based-railway",
   "metadata": {},
   "outputs": [
    {
     "data": {
      "text/plain": [
       "\n",
       "Down   Up \n",
       " 484  605 "
      ]
     },
     "metadata": {},
     "output_type": "display_data"
    }
   ],
   "source": [
    "# Classes\n",
    "table(Weekly$Direction)"
   ]
  },
  {
   "cell_type": "code",
   "execution_count": 11,
   "id": "pressed-rates",
   "metadata": {
    "scrolled": true
   },
   "outputs": [],
   "source": [
    "Weekly$probability <- predict(model_a, type = \"response\")\n",
    "#head(Weekly, n=10)"
   ]
  },
  {
   "cell_type": "code",
   "execution_count": 12,
   "id": "packed-madison",
   "metadata": {},
   "outputs": [
    {
     "data": {
      "text/plain": [
       "      \n",
       "       Down  Up\n",
       "  Down   54  48\n",
       "  Up    430 557"
      ]
     },
     "metadata": {},
     "output_type": "display_data"
    }
   ],
   "source": [
    "Weekly$prediction = rep(\"Down\", nrow(Weekly))\n",
    "Weekly$prediction[Weekly$probability > 0.5] = \"Up\"\n",
    "table(Weekly$prediction, Weekly$Direction)"
   ]
  },
  {
   "cell_type": "code",
   "execution_count": 13,
   "id": "technological-instruction",
   "metadata": {},
   "outputs": [
    {
     "name": "stdout",
     "output_type": "stream",
     "text": [
      "Accuracy :  56.10652 %"
     ]
    }
   ],
   "source": [
    "TP = 557 \n",
    "TN = 54\n",
    "FP = 48\n",
    "FN = 430\n",
    "\n",
    "Accuracy = (TP + TN) / (TP + TN + FP + FN)\n",
    "cat(\"Accuracy : \", Accuracy*100, \"%\")"
   ]
  },
  {
   "cell_type": "markdown",
   "id": "architectural-hearing",
   "metadata": {},
   "source": [
    "(d) Now fit the logistic regression model using a training data periodfrom 1990 to 2008, with Lag2 as the only predictor. Compute the confusion matrix and the overall fraction of correct predictions for the held out data (that is, the data from 2009 and 2010)."
   ]
  },
  {
   "cell_type": "code",
   "execution_count": 14,
   "id": "flush-enlargement",
   "metadata": {},
   "outputs": [],
   "source": [
    "Weekly_train <- Weekly[Weekly$Year < 2009,]\n",
    "Weekly_test <- Weekly[Weekly$Year > 2008,]\n",
    "\n",
    "target <- Weekly_train[,'Direction']"
   ]
  },
  {
   "cell_type": "code",
   "execution_count": 15,
   "id": "dirty-growth",
   "metadata": {},
   "outputs": [
    {
     "data": {
      "text/plain": [
       "\n",
       "Call:\n",
       "glm(formula = Direction ~ Lag2, family = binomial, data = Weekly_train)\n",
       "\n",
       "Deviance Residuals: \n",
       "   Min      1Q  Median      3Q     Max  \n",
       "-1.536  -1.264   1.021   1.091   1.368  \n",
       "\n",
       "Coefficients:\n",
       "            Estimate Std. Error z value Pr(>|z|)   \n",
       "(Intercept)  0.20326    0.06428   3.162  0.00157 **\n",
       "Lag2         0.05810    0.02870   2.024  0.04298 * \n",
       "---\n",
       "Signif. codes:  0 '***' 0.001 '**' 0.01 '*' 0.05 '.' 0.1 ' ' 1\n",
       "\n",
       "(Dispersion parameter for binomial family taken to be 1)\n",
       "\n",
       "    Null deviance: 1354.7  on 984  degrees of freedom\n",
       "Residual deviance: 1350.5  on 983  degrees of freedom\n",
       "AIC: 1354.5\n",
       "\n",
       "Number of Fisher Scoring iterations: 4\n"
      ]
     },
     "metadata": {},
     "output_type": "display_data"
    }
   ],
   "source": [
    "model_b <- glm(Direction ~ Lag2, data = Weekly_train, family = binomial)\n",
    "summary(model_b)"
   ]
  },
  {
   "cell_type": "code",
   "execution_count": 16,
   "id": "mounted-death",
   "metadata": {},
   "outputs": [
    {
     "data": {
      "text/plain": [
       "      \n",
       "       Down Up\n",
       "  Down   17 13\n",
       "  Up     26 48"
      ]
     },
     "metadata": {},
     "output_type": "display_data"
    }
   ],
   "source": [
    "probability <- predict(model_b, type = \"response\", newdata = Weekly_test)\n",
    "Weekly_test$prediction = rep(\"Down\", nrow(Weekly_test))\n",
    "Weekly_test$prediction[Weekly_test$probability > 0.5] = \"Up\"\n",
    "table(Weekly_test$prediction, Weekly_test$Direction)"
   ]
  },
  {
   "cell_type": "code",
   "execution_count": 17,
   "id": "particular-portable",
   "metadata": {},
   "outputs": [
    {
     "name": "stdout",
     "output_type": "stream",
     "text": [
      "Accuracy :  62.5 %"
     ]
    }
   ],
   "source": [
    "TP = 56\n",
    "TN = 9\n",
    "FP = 34\n",
    "FN = 5\n",
    "\n",
    "Accuracy = (TP + TN) / (TP + TN + FP + FN)\n",
    "cat(\"Accuracy : \", Accuracy*100, \"%\")"
   ]
  },
  {
   "cell_type": "markdown",
   "id": "greek-peninsula",
   "metadata": {},
   "source": [
    "(e) Repeat (d) using LDA."
   ]
  },
  {
   "cell_type": "code",
   "execution_count": 18,
   "id": "natural-netscape",
   "metadata": {},
   "outputs": [
    {
     "name": "stderr",
     "output_type": "stream",
     "text": [
      "Warning message:\n",
      "\"package 'MASS' was built under R version 3.6.3\""
     ]
    },
    {
     "data": {
      "text/plain": [
       "        Length Class  Mode     \n",
       "prior   2      -none- numeric  \n",
       "counts  2      -none- numeric  \n",
       "means   2      -none- numeric  \n",
       "scaling 1      -none- numeric  \n",
       "lev     2      -none- character\n",
       "svd     1      -none- numeric  \n",
       "N       1      -none- numeric  \n",
       "call    3      -none- call     \n",
       "terms   3      terms  call     \n",
       "xlevels 0      -none- list     "
      ]
     },
     "metadata": {},
     "output_type": "display_data"
    }
   ],
   "source": [
    "library(MASS)\n",
    "lda_a <- lda(Direction ~ Lag2, data = Weekly_train)\n",
    "summary(lda_a)"
   ]
  },
  {
   "cell_type": "code",
   "execution_count": 19,
   "id": "early-reconstruction",
   "metadata": {},
   "outputs": [
    {
     "data": {
      "text/plain": [
       "      \n",
       "       Down Up\n",
       "  Down    9  5\n",
       "  Up     34 56"
      ]
     },
     "metadata": {},
     "output_type": "display_data"
    }
   ],
   "source": [
    "lda_prediction = predict(lda_a, newdata = Weekly_test, type=\"response\")\n",
    "table(lda_prediction$class, Weekly_test$Direction)"
   ]
  },
  {
   "cell_type": "code",
   "execution_count": 20,
   "id": "streaming-intent",
   "metadata": {},
   "outputs": [
    {
     "name": "stdout",
     "output_type": "stream",
     "text": [
      "Accuracy :  62.5 %"
     ]
    }
   ],
   "source": [
    "TP = 56\n",
    "TN = 9\n",
    "FP = 34\n",
    "FN = 5\n",
    "\n",
    "Accuracy = (TP + TN) / (TP + TN + FP + FN)\n",
    "cat(\"Accuracy : \", Accuracy*100, \"%\")"
   ]
  },
  {
   "cell_type": "markdown",
   "id": "primary-denmark",
   "metadata": {},
   "source": [
    "(f) Repeat (d) using QDA."
   ]
  },
  {
   "cell_type": "code",
   "execution_count": 21,
   "id": "funded-tuner",
   "metadata": {},
   "outputs": [
    {
     "data": {
      "text/plain": [
       "        Length Class  Mode     \n",
       "prior   2      -none- numeric  \n",
       "counts  2      -none- numeric  \n",
       "means   2      -none- numeric  \n",
       "scaling 2      -none- numeric  \n",
       "ldet    2      -none- numeric  \n",
       "lev     2      -none- character\n",
       "N       1      -none- numeric  \n",
       "call    3      -none- call     \n",
       "terms   3      terms  call     \n",
       "xlevels 0      -none- list     "
      ]
     },
     "metadata": {},
     "output_type": "display_data"
    }
   ],
   "source": [
    "qda_a = qda(Direction ~ Lag2, data= Weekly_train)\n",
    "summary(qda_a)"
   ]
  },
  {
   "cell_type": "code",
   "execution_count": 22,
   "id": "intended-latin",
   "metadata": {},
   "outputs": [
    {
     "data": {
      "text/plain": [
       "      \n",
       "       Down Up\n",
       "  Down    0  0\n",
       "  Up     43 61"
      ]
     },
     "metadata": {},
     "output_type": "display_data"
    }
   ],
   "source": [
    "qda_prediction = predict(qda_a, newdata = Weekly_test, type=\"response\")\n",
    "table(qda_prediction$class, Weekly_test$Direction)"
   ]
  },
  {
   "cell_type": "code",
   "execution_count": 23,
   "id": "scenic-compact",
   "metadata": {},
   "outputs": [
    {
     "name": "stdout",
     "output_type": "stream",
     "text": [
      "Accuracy :  58.65385 %"
     ]
    }
   ],
   "source": [
    "TP = 61\n",
    "TN = 0\n",
    "FP = 43\n",
    "FN = 0\n",
    "\n",
    "Accuracy = (TP + TN) / (TP + TN + FP + FN)\n",
    "cat(\"Accuracy : \", Accuracy*100, \"%\")"
   ]
  },
  {
   "cell_type": "markdown",
   "id": "active-constitution",
   "metadata": {},
   "source": [
    "(g) Repeat (d) using KNN with K=1."
   ]
  },
  {
   "cell_type": "code",
   "execution_count": 26,
   "id": "intense-panel",
   "metadata": {},
   "outputs": [],
   "source": [
    "library(class)\n",
    "set.seed(1)\n",
    "Weekly_train <- Weekly[Weekly$Year < 2009, \"Lag2\", drop = F]\n",
    "Weekly_test <- Weekly[Weekly$Year > 2008, \"Lag2\", drop = F]\n",
    "train_target <- Weekly[Weekly$Year < 2009, \"Direction\", drop = T]\n",
    "test_target <- Weekly[Weekly$Year > 2008, \"Direction\", drop = T]"
   ]
  },
  {
   "cell_type": "code",
   "execution_count": 28,
   "id": "empirical-generic",
   "metadata": {},
   "outputs": [],
   "source": [
    "knn_a = knn(Weekly_train, Weekly_test, train_target, k = 1)"
   ]
  },
  {
   "cell_type": "code",
   "execution_count": 29,
   "id": "fluid-competition",
   "metadata": {},
   "outputs": [
    {
     "data": {
      "text/plain": [
       "      test_target\n",
       "knn_a  Down Up\n",
       "  Down   21 30\n",
       "  Up     22 31"
      ]
     },
     "metadata": {},
     "output_type": "display_data"
    }
   ],
   "source": [
    "table(knn_a, test_target)"
   ]
  },
  {
   "cell_type": "code",
   "execution_count": 30,
   "id": "asian-discount",
   "metadata": {},
   "outputs": [
    {
     "name": "stdout",
     "output_type": "stream",
     "text": [
      "Accuracy :  50 %"
     ]
    }
   ],
   "source": [
    "TP = 31\n",
    "TN = 21\n",
    "FP = 30\n",
    "FN = 22\n",
    "\n",
    "Accuracy = (TP + TN) / (TP + TN + FP + FN)\n",
    "cat(\"Accuracy : \", Accuracy*100, \"%\")"
   ]
  },
  {
   "cell_type": "markdown",
   "id": "basic-comparative",
   "metadata": {},
   "source": [
    "(h) Which of these methods appears to provide the best results on this data?"
   ]
  },
  {
   "cell_type": "markdown",
   "id": "electoral-harvey",
   "metadata": {},
   "source": [
    "Logistic Regression (model_b) and LDA (lda_a) models are better."
   ]
  },
  {
   "cell_type": "markdown",
   "id": "first-therapist",
   "metadata": {},
   "source": [
    "(i) Experiment with different combinations of predictors, including possible transformations and interactions, for each of the methods. Report the variables, method, and associated confusion matrix that appears to provide the best results on the heldout data. Note that you should also experiment with values for K in the KNN classifier."
   ]
  },
  {
   "cell_type": "markdown",
   "id": "valued-wonder",
   "metadata": {},
   "source": [
    "-"
   ]
  },
  {
   "cell_type": "markdown",
   "id": "virgin-version",
   "metadata": {},
   "source": [
    "# Question 11 Page 171"
   ]
  },
  {
   "cell_type": "markdown",
   "id": "portable-motorcycle",
   "metadata": {},
   "source": [
    "In this problem, you will develop a model to predict whether a given car gets high or low gas mileage based on the Autodata set."
   ]
  },
  {
   "cell_type": "code",
   "execution_count": 32,
   "id": "unsigned-camping",
   "metadata": {},
   "outputs": [
    {
     "data": {
      "text/html": [
       "<table>\n",
       "<thead><tr><th scope=col>mpg</th><th scope=col>cylinders</th><th scope=col>displacement</th><th scope=col>horsepower</th><th scope=col>weight</th><th scope=col>acceleration</th><th scope=col>year</th><th scope=col>origin</th><th scope=col>name</th></tr></thead>\n",
       "<tbody>\n",
       "\t<tr><td>18                       </td><td>8                        </td><td>307                      </td><td>130                      </td><td>3504                     </td><td>12.0                     </td><td>70                       </td><td>1                        </td><td>chevrolet chevelle malibu</td></tr>\n",
       "\t<tr><td>15                       </td><td>8                        </td><td>350                      </td><td>165                      </td><td>3693                     </td><td>11.5                     </td><td>70                       </td><td>1                        </td><td>buick skylark 320        </td></tr>\n",
       "\t<tr><td>18                       </td><td>8                        </td><td>318                      </td><td>150                      </td><td>3436                     </td><td>11.0                     </td><td>70                       </td><td>1                        </td><td>plymouth satellite       </td></tr>\n",
       "\t<tr><td>16                       </td><td>8                        </td><td>304                      </td><td>150                      </td><td>3433                     </td><td>12.0                     </td><td>70                       </td><td>1                        </td><td>amc rebel sst            </td></tr>\n",
       "\t<tr><td>17                       </td><td>8                        </td><td>302                      </td><td>140                      </td><td>3449                     </td><td>10.5                     </td><td>70                       </td><td>1                        </td><td>ford torino              </td></tr>\n",
       "</tbody>\n",
       "</table>\n"
      ],
      "text/latex": [
       "\\begin{tabular}{r|lllllllll}\n",
       " mpg & cylinders & displacement & horsepower & weight & acceleration & year & origin & name\\\\\n",
       "\\hline\n",
       "\t 18                        & 8                         & 307                       & 130                       & 3504                      & 12.0                      & 70                        & 1                         & chevrolet chevelle malibu\\\\\n",
       "\t 15                        & 8                         & 350                       & 165                       & 3693                      & 11.5                      & 70                        & 1                         & buick skylark 320        \\\\\n",
       "\t 18                        & 8                         & 318                       & 150                       & 3436                      & 11.0                      & 70                        & 1                         & plymouth satellite       \\\\\n",
       "\t 16                        & 8                         & 304                       & 150                       & 3433                      & 12.0                      & 70                        & 1                         & amc rebel sst            \\\\\n",
       "\t 17                        & 8                         & 302                       & 140                       & 3449                      & 10.5                      & 70                        & 1                         & ford torino              \\\\\n",
       "\\end{tabular}\n"
      ],
      "text/markdown": [
       "\n",
       "| mpg | cylinders | displacement | horsepower | weight | acceleration | year | origin | name |\n",
       "|---|---|---|---|---|---|---|---|---|\n",
       "| 18                        | 8                         | 307                       | 130                       | 3504                      | 12.0                      | 70                        | 1                         | chevrolet chevelle malibu |\n",
       "| 15                        | 8                         | 350                       | 165                       | 3693                      | 11.5                      | 70                        | 1                         | buick skylark 320         |\n",
       "| 18                        | 8                         | 318                       | 150                       | 3436                      | 11.0                      | 70                        | 1                         | plymouth satellite        |\n",
       "| 16                        | 8                         | 304                       | 150                       | 3433                      | 12.0                      | 70                        | 1                         | amc rebel sst             |\n",
       "| 17                        | 8                         | 302                       | 140                       | 3449                      | 10.5                      | 70                        | 1                         | ford torino               |\n",
       "\n"
      ],
      "text/plain": [
       "  mpg cylinders displacement horsepower weight acceleration year origin\n",
       "1 18  8         307          130        3504   12.0         70   1     \n",
       "2 15  8         350          165        3693   11.5         70   1     \n",
       "3 18  8         318          150        3436   11.0         70   1     \n",
       "4 16  8         304          150        3433   12.0         70   1     \n",
       "5 17  8         302          140        3449   10.5         70   1     \n",
       "  name                     \n",
       "1 chevrolet chevelle malibu\n",
       "2 buick skylark 320        \n",
       "3 plymouth satellite       \n",
       "4 amc rebel sst            \n",
       "5 ford torino              "
      ]
     },
     "metadata": {},
     "output_type": "display_data"
    }
   ],
   "source": [
    "head(Auto, n = 5)"
   ]
  },
  {
   "cell_type": "markdown",
   "id": "alternate-encounter",
   "metadata": {},
   "source": [
    "(a) Create a binary variable, mpg01, that contains a 1 if mpg contains a value above its median, and a 0 if mpg contains a value below its median. You can compute the median using the median() function. Note you may find it helpful to use the data.frame() function to create a single data set containing both mpg01 and the other Auto variables."
   ]
  },
  {
   "cell_type": "code",
   "execution_count": 39,
   "id": "three-ready",
   "metadata": {},
   "outputs": [
    {
     "data": {
      "text/html": [
       "<table>\n",
       "<thead><tr><th scope=col>mpg</th><th scope=col>cylinders</th><th scope=col>displacement</th><th scope=col>horsepower</th><th scope=col>weight</th><th scope=col>acceleration</th><th scope=col>year</th><th scope=col>origin</th><th scope=col>name</th><th scope=col>mpg01</th></tr></thead>\n",
       "<tbody>\n",
       "\t<tr><td>18                       </td><td>8                        </td><td>307                      </td><td>130                      </td><td>3504                     </td><td>12.0                     </td><td>70                       </td><td>1                        </td><td>chevrolet chevelle malibu</td><td>0                        </td></tr>\n",
       "\t<tr><td>15                       </td><td>8                        </td><td>350                      </td><td>165                      </td><td>3693                     </td><td>11.5                     </td><td>70                       </td><td>1                        </td><td>buick skylark 320        </td><td>0                        </td></tr>\n",
       "\t<tr><td>18                       </td><td>8                        </td><td>318                      </td><td>150                      </td><td>3436                     </td><td>11.0                     </td><td>70                       </td><td>1                        </td><td>plymouth satellite       </td><td>0                        </td></tr>\n",
       "\t<tr><td>16                       </td><td>8                        </td><td>304                      </td><td>150                      </td><td>3433                     </td><td>12.0                     </td><td>70                       </td><td>1                        </td><td>amc rebel sst            </td><td>0                        </td></tr>\n",
       "\t<tr><td>17                       </td><td>8                        </td><td>302                      </td><td>140                      </td><td>3449                     </td><td>10.5                     </td><td>70                       </td><td>1                        </td><td>ford torino              </td><td>0                        </td></tr>\n",
       "\t<tr><td>15                       </td><td>8                        </td><td>429                      </td><td>198                      </td><td>4341                     </td><td>10.0                     </td><td>70                       </td><td>1                        </td><td>ford galaxie 500         </td><td>0                        </td></tr>\n",
       "\t<tr><td>14                       </td><td>8                        </td><td>454                      </td><td>220                      </td><td>4354                     </td><td> 9.0                     </td><td>70                       </td><td>1                        </td><td>chevrolet impala         </td><td>0                        </td></tr>\n",
       "\t<tr><td>14                       </td><td>8                        </td><td>440                      </td><td>215                      </td><td>4312                     </td><td> 8.5                     </td><td>70                       </td><td>1                        </td><td>plymouth fury iii        </td><td>0                        </td></tr>\n",
       "\t<tr><td>14                       </td><td>8                        </td><td>455                      </td><td>225                      </td><td>4425                     </td><td>10.0                     </td><td>70                       </td><td>1                        </td><td>pontiac catalina         </td><td>0                        </td></tr>\n",
       "\t<tr><td>15                       </td><td>8                        </td><td>390                      </td><td>190                      </td><td>3850                     </td><td> 8.5                     </td><td>70                       </td><td>1                        </td><td>amc ambassador dpl       </td><td>0                        </td></tr>\n",
       "\t<tr><td>15                       </td><td>8                        </td><td>383                      </td><td>170                      </td><td>3563                     </td><td>10.0                     </td><td>70                       </td><td>1                        </td><td>dodge challenger se      </td><td>0                        </td></tr>\n",
       "\t<tr><td>14                       </td><td>8                        </td><td>340                      </td><td>160                      </td><td>3609                     </td><td> 8.0                     </td><td>70                       </td><td>1                        </td><td>plymouth 'cuda 340       </td><td>0                        </td></tr>\n",
       "\t<tr><td>15                       </td><td>8                        </td><td>400                      </td><td>150                      </td><td>3761                     </td><td> 9.5                     </td><td>70                       </td><td>1                        </td><td>chevrolet monte carlo    </td><td>0                        </td></tr>\n",
       "\t<tr><td>14                       </td><td>8                        </td><td>455                      </td><td>225                      </td><td>3086                     </td><td>10.0                     </td><td>70                       </td><td>1                        </td><td>buick estate wagon (sw)  </td><td>0                        </td></tr>\n",
       "\t<tr><td>24                       </td><td>4                        </td><td>113                      </td><td> 95                      </td><td>2372                     </td><td>15.0                     </td><td>70                       </td><td>3                        </td><td>toyota corona mark ii    </td><td>1                        </td></tr>\n",
       "</tbody>\n",
       "</table>\n"
      ],
      "text/latex": [
       "\\begin{tabular}{r|llllllllll}\n",
       " mpg & cylinders & displacement & horsepower & weight & acceleration & year & origin & name & mpg01\\\\\n",
       "\\hline\n",
       "\t 18                        & 8                         & 307                       & 130                       & 3504                      & 12.0                      & 70                        & 1                         & chevrolet chevelle malibu & 0                        \\\\\n",
       "\t 15                        & 8                         & 350                       & 165                       & 3693                      & 11.5                      & 70                        & 1                         & buick skylark 320         & 0                        \\\\\n",
       "\t 18                        & 8                         & 318                       & 150                       & 3436                      & 11.0                      & 70                        & 1                         & plymouth satellite        & 0                        \\\\\n",
       "\t 16                        & 8                         & 304                       & 150                       & 3433                      & 12.0                      & 70                        & 1                         & amc rebel sst             & 0                        \\\\\n",
       "\t 17                        & 8                         & 302                       & 140                       & 3449                      & 10.5                      & 70                        & 1                         & ford torino               & 0                        \\\\\n",
       "\t 15                        & 8                         & 429                       & 198                       & 4341                      & 10.0                      & 70                        & 1                         & ford galaxie 500          & 0                        \\\\\n",
       "\t 14                        & 8                         & 454                       & 220                       & 4354                      &  9.0                      & 70                        & 1                         & chevrolet impala          & 0                        \\\\\n",
       "\t 14                        & 8                         & 440                       & 215                       & 4312                      &  8.5                      & 70                        & 1                         & plymouth fury iii         & 0                        \\\\\n",
       "\t 14                        & 8                         & 455                       & 225                       & 4425                      & 10.0                      & 70                        & 1                         & pontiac catalina          & 0                        \\\\\n",
       "\t 15                        & 8                         & 390                       & 190                       & 3850                      &  8.5                      & 70                        & 1                         & amc ambassador dpl        & 0                        \\\\\n",
       "\t 15                        & 8                         & 383                       & 170                       & 3563                      & 10.0                      & 70                        & 1                         & dodge challenger se       & 0                        \\\\\n",
       "\t 14                        & 8                         & 340                       & 160                       & 3609                      &  8.0                      & 70                        & 1                         & plymouth 'cuda 340        & 0                        \\\\\n",
       "\t 15                        & 8                         & 400                       & 150                       & 3761                      &  9.5                      & 70                        & 1                         & chevrolet monte carlo     & 0                        \\\\\n",
       "\t 14                        & 8                         & 455                       & 225                       & 3086                      & 10.0                      & 70                        & 1                         & buick estate wagon (sw)   & 0                        \\\\\n",
       "\t 24                        & 4                         & 113                       &  95                       & 2372                      & 15.0                      & 70                        & 3                         & toyota corona mark ii     & 1                        \\\\\n",
       "\\end{tabular}\n"
      ],
      "text/markdown": [
       "\n",
       "| mpg | cylinders | displacement | horsepower | weight | acceleration | year | origin | name | mpg01 |\n",
       "|---|---|---|---|---|---|---|---|---|---|\n",
       "| 18                        | 8                         | 307                       | 130                       | 3504                      | 12.0                      | 70                        | 1                         | chevrolet chevelle malibu | 0                         |\n",
       "| 15                        | 8                         | 350                       | 165                       | 3693                      | 11.5                      | 70                        | 1                         | buick skylark 320         | 0                         |\n",
       "| 18                        | 8                         | 318                       | 150                       | 3436                      | 11.0                      | 70                        | 1                         | plymouth satellite        | 0                         |\n",
       "| 16                        | 8                         | 304                       | 150                       | 3433                      | 12.0                      | 70                        | 1                         | amc rebel sst             | 0                         |\n",
       "| 17                        | 8                         | 302                       | 140                       | 3449                      | 10.5                      | 70                        | 1                         | ford torino               | 0                         |\n",
       "| 15                        | 8                         | 429                       | 198                       | 4341                      | 10.0                      | 70                        | 1                         | ford galaxie 500          | 0                         |\n",
       "| 14                        | 8                         | 454                       | 220                       | 4354                      |  9.0                      | 70                        | 1                         | chevrolet impala          | 0                         |\n",
       "| 14                        | 8                         | 440                       | 215                       | 4312                      |  8.5                      | 70                        | 1                         | plymouth fury iii         | 0                         |\n",
       "| 14                        | 8                         | 455                       | 225                       | 4425                      | 10.0                      | 70                        | 1                         | pontiac catalina          | 0                         |\n",
       "| 15                        | 8                         | 390                       | 190                       | 3850                      |  8.5                      | 70                        | 1                         | amc ambassador dpl        | 0                         |\n",
       "| 15                        | 8                         | 383                       | 170                       | 3563                      | 10.0                      | 70                        | 1                         | dodge challenger se       | 0                         |\n",
       "| 14                        | 8                         | 340                       | 160                       | 3609                      |  8.0                      | 70                        | 1                         | plymouth 'cuda 340        | 0                         |\n",
       "| 15                        | 8                         | 400                       | 150                       | 3761                      |  9.5                      | 70                        | 1                         | chevrolet monte carlo     | 0                         |\n",
       "| 14                        | 8                         | 455                       | 225                       | 3086                      | 10.0                      | 70                        | 1                         | buick estate wagon (sw)   | 0                         |\n",
       "| 24                        | 4                         | 113                       |  95                       | 2372                      | 15.0                      | 70                        | 3                         | toyota corona mark ii     | 1                         |\n",
       "\n"
      ],
      "text/plain": [
       "   mpg cylinders displacement horsepower weight acceleration year origin\n",
       "1  18  8         307          130        3504   12.0         70   1     \n",
       "2  15  8         350          165        3693   11.5         70   1     \n",
       "3  18  8         318          150        3436   11.0         70   1     \n",
       "4  16  8         304          150        3433   12.0         70   1     \n",
       "5  17  8         302          140        3449   10.5         70   1     \n",
       "6  15  8         429          198        4341   10.0         70   1     \n",
       "7  14  8         454          220        4354    9.0         70   1     \n",
       "8  14  8         440          215        4312    8.5         70   1     \n",
       "9  14  8         455          225        4425   10.0         70   1     \n",
       "10 15  8         390          190        3850    8.5         70   1     \n",
       "11 15  8         383          170        3563   10.0         70   1     \n",
       "12 14  8         340          160        3609    8.0         70   1     \n",
       "13 15  8         400          150        3761    9.5         70   1     \n",
       "14 14  8         455          225        3086   10.0         70   1     \n",
       "15 24  4         113           95        2372   15.0         70   3     \n",
       "   name                      mpg01\n",
       "1  chevrolet chevelle malibu 0    \n",
       "2  buick skylark 320         0    \n",
       "3  plymouth satellite        0    \n",
       "4  amc rebel sst             0    \n",
       "5  ford torino               0    \n",
       "6  ford galaxie 500          0    \n",
       "7  chevrolet impala          0    \n",
       "8  plymouth fury iii         0    \n",
       "9  pontiac catalina          0    \n",
       "10 amc ambassador dpl        0    \n",
       "11 dodge challenger se       0    \n",
       "12 plymouth 'cuda 340        0    \n",
       "13 chevrolet monte carlo     0    \n",
       "14 buick estate wagon (sw)   0    \n",
       "15 toyota corona mark ii     1    "
      ]
     },
     "metadata": {},
     "output_type": "display_data"
    }
   ],
   "source": [
    "Auto$mpg01 <- rep(0, nrow(Auto))\n",
    "Auto[Auto$mpg > median(Auto$mpg),\"mpg01\"] <- 1\n",
    "head(Auto, n = 15)"
   ]
  },
  {
   "cell_type": "markdown",
   "id": "proved-relief",
   "metadata": {},
   "source": [
    "(b) Explore the data graphically in order to investigate the association between mpg01 and the other features. Which of the other features seem most likely to be useful in predicting mpg01? Scatter plots and boxplots may be useful tools to answer this question. Describe your findings."
   ]
  },
  {
   "cell_type": "code",
   "execution_count": 40,
   "id": "metric-express",
   "metadata": {},
   "outputs": [
    {
     "data": {
      "image/png": "[encoded data removed]",
      "text/plain": [
       "plot without title"
      ]
     },
     "metadata": {},
     "output_type": "display_data"
    }
   ],
   "source": [
    "cols <- rep('blue', nrow(Auto))  # Not default\n",
    "cols[Auto$mpg01 == 1] <- 'red'  # Default\n",
    "pairs(Auto, col=cols)"
   ]
  },
  {
   "cell_type": "markdown",
   "id": "later-control",
   "metadata": {},
   "source": [
    "(c) Split the data into a training set and a test set."
   ]
  },
  {
   "cell_type": "code",
   "execution_count": 41,
   "id": "recreational-battle",
   "metadata": {},
   "outputs": [],
   "source": [
    "sample <- floor(0.75 * nrow(Auto))\n",
    "\n",
    "## set the seed to make your partition reproducible\n",
    "set.seed(1)\n",
    "index <- sample(seq_len(nrow(Auto)), size = sample)\n",
    "\n",
    "train_Auto <- Auto[index,]\n",
    "test_Auto <- Auto[-index,]"
   ]
  },
  {
   "cell_type": "markdown",
   "id": "vocal-signature",
   "metadata": {},
   "source": [
    "(d) Perform LDA on the training data in order to predict mpg01 using the variables that seemed most associated with mpg01 in (b). What is the test error of the model obtained?"
   ]
  },
  {
   "cell_type": "code",
   "execution_count": 47,
   "id": "dangerous-nation",
   "metadata": {},
   "outputs": [
    {
     "data": {
      "text/html": [
       "<ol class=list-inline>\n",
       "\t<li>'mpg'</li>\n",
       "\t<li>'cylinders'</li>\n",
       "\t<li>'displacement'</li>\n",
       "\t<li>'horsepower'</li>\n",
       "\t<li>'weight'</li>\n",
       "\t<li>'acceleration'</li>\n",
       "\t<li>'year'</li>\n",
       "\t<li>'origin'</li>\n",
       "\t<li>'name'</li>\n",
       "\t<li>'mpg01'</li>\n",
       "</ol>\n"
      ],
      "text/latex": [
       "\\begin{enumerate*}\n",
       "\\item 'mpg'\n",
       "\\item 'cylinders'\n",
       "\\item 'displacement'\n",
       "\\item 'horsepower'\n",
       "\\item 'weight'\n",
       "\\item 'acceleration'\n",
       "\\item 'year'\n",
       "\\item 'origin'\n",
       "\\item 'name'\n",
       "\\item 'mpg01'\n",
       "\\end{enumerate*}\n"
      ],
      "text/markdown": [
       "1. 'mpg'\n",
       "2. 'cylinders'\n",
       "3. 'displacement'\n",
       "4. 'horsepower'\n",
       "5. 'weight'\n",
       "6. 'acceleration'\n",
       "7. 'year'\n",
       "8. 'origin'\n",
       "9. 'name'\n",
       "10. 'mpg01'\n",
       "\n",
       "\n"
      ],
      "text/plain": [
       " [1] \"mpg\"          \"cylinders\"    \"displacement\" \"horsepower\"   \"weight\"      \n",
       " [6] \"acceleration\" \"year\"         \"origin\"       \"name\"         \"mpg01\"       "
      ]
     },
     "metadata": {},
     "output_type": "display_data"
    }
   ],
   "source": [
    "colnames(Auto)"
   ]
  },
  {
   "cell_type": "code",
   "execution_count": 49,
   "id": "compatible-dollar",
   "metadata": {},
   "outputs": [
    {
     "data": {
      "text/plain": [
       "\n",
       "Call:\n",
       "glm(formula = mpg01 ~ cylinders + displacement + horsepower + \n",
       "    weight + acceleration + year + origin, data = train_Auto)\n",
       "\n",
       "Deviance Residuals: \n",
       "     Min        1Q    Median        3Q       Max  \n",
       "-0.96877  -0.15219   0.06071   0.18869   0.92377  \n",
       "\n",
       "Coefficients:\n",
       "               Estimate Std. Error t value Pr(>|t|)    \n",
       "(Intercept)  -0.6160577  0.4715689  -1.306 0.192466    \n",
       "cylinders    -0.0994971  0.0344183  -2.891 0.004137 ** \n",
       "displacement -0.0004507  0.0008000  -0.563 0.573633    \n",
       "horsepower    0.0021367  0.0013978   1.529 0.127466    \n",
       "weight       -0.0002404  0.0000671  -3.583 0.000399 ***\n",
       "acceleration -0.0010671  0.0100113  -0.107 0.915189    \n",
       "year          0.0290797  0.0052271   5.563 6.08e-08 ***\n",
       "origin        0.0378556  0.0284376   1.331 0.184190    \n",
       "---\n",
       "Signif. codes:  0 '***' 0.001 '**' 0.01 '*' 0.05 '.' 0.1 ' ' 1\n",
       "\n",
       "(Dispersion parameter for gaussian family taken to be 0.08987001)\n",
       "\n",
       "    Null deviance: 73.446  on 293  degrees of freedom\n",
       "Residual deviance: 25.703  on 286  degrees of freedom\n",
       "AIC: 135.86\n",
       "\n",
       "Number of Fisher Scoring iterations: 2\n"
      ]
     },
     "metadata": {},
     "output_type": "display_data"
    }
   ],
   "source": [
    "model_a <- glm(mpg01 ~ cylinders + displacement + horsepower + weight + acceleration + year + origin, data = train_Auto)\n",
    "summary(model_a)"
   ]
  },
  {
   "cell_type": "code",
   "execution_count": 50,
   "id": "continued-beach",
   "metadata": {},
   "outputs": [
    {
     "data": {
      "text/plain": [
       "   \n",
       "     0  1\n",
       "  0 43  0\n",
       "  1 10 45"
      ]
     },
     "metadata": {},
     "output_type": "display_data"
    }
   ],
   "source": [
    "lda_a <- lda(mpg01 ~ cylinders + weight + year, data = train_Auto)\n",
    "predictions <- predict(lda_a, test_Auto)\n",
    "table(predictions$class, test_Auto$mpg01)"
   ]
  },
  {
   "cell_type": "code",
   "execution_count": 51,
   "id": "vital-change",
   "metadata": {},
   "outputs": [
    {
     "name": "stdout",
     "output_type": "stream",
     "text": [
      "Accuracy :  89.79592 %"
     ]
    }
   ],
   "source": [
    "TP = 45\n",
    "TN = 43\n",
    "FP = 0\n",
    "FN = 10\n",
    "\n",
    "Accuracy = (TP + TN) / (TP + TN + FP + FN)\n",
    "cat(\"Accuracy : \", Accuracy*100, \"%\")"
   ]
  },
  {
   "cell_type": "markdown",
   "id": "prescription-assignment",
   "metadata": {},
   "source": [
    "(e) Perform QDA on the training data in order to predict mpg01 using the variables that seemed most associated with mpg01 in (b). What is the test error of the model obtained?"
   ]
  },
  {
   "cell_type": "code",
   "execution_count": 53,
   "id": "thousand-endorsement",
   "metadata": {},
   "outputs": [
    {
     "data": {
      "text/plain": [
       "   \n",
       "     0  1\n",
       "  0 45  1\n",
       "  1  8 44"
      ]
     },
     "metadata": {},
     "output_type": "display_data"
    }
   ],
   "source": [
    "qda_a <- qda(mpg01 ~ cylinders + weight + year, data = train_Auto)\n",
    "predictions <- predict(qda_a, test_Auto)\n",
    "table(predictions$class, test_Auto$mpg01)"
   ]
  },
  {
   "cell_type": "code",
   "execution_count": 54,
   "id": "aware-desktop",
   "metadata": {},
   "outputs": [
    {
     "name": "stdout",
     "output_type": "stream",
     "text": [
      "Accuracy :  90.81633 %"
     ]
    }
   ],
   "source": [
    "TP = 44\n",
    "TN = 45\n",
    "FP = 8\n",
    "FN = 1\n",
    "\n",
    "Accuracy = (TP + TN) / (TP + TN + FP + FN)\n",
    "cat(\"Accuracy : \", Accuracy*100, \"%\")"
   ]
  },
  {
   "cell_type": "markdown",
   "id": "sustainable-attack",
   "metadata": {},
   "source": [
    "(f) Perform logistic regression on the training data in order to predict mpg01 using the variables that seemed most associated with mpg01 in (b). What is the test error of the model obtained?"
   ]
  },
  {
   "cell_type": "code",
   "execution_count": 56,
   "id": "viral-conviction",
   "metadata": {},
   "outputs": [
    {
     "data": {
      "text/plain": [
       "   \n",
       "     0  1\n",
       "  0 46  2\n",
       "  1  7 43"
      ]
     },
     "metadata": {},
     "output_type": "display_data"
    }
   ],
   "source": [
    "model_b <- glm(mpg01 ~ cylinders + weight + year, data = train_Auto, family=binomial)\n",
    "test_Auto$probabilities = predict(model_b, test_Auto, type = \"response\")\n",
    "test_Auto$predictions = rep(0, nrow(test_Auto))\n",
    "test_Auto[test_Auto$probabilities > 0.5, 'predictions'] = 1\n",
    "\n",
    "table(test_Auto$predictions, test_Auto$mpg01)"
   ]
  },
  {
   "cell_type": "code",
   "execution_count": 57,
   "id": "arabic-brazilian",
   "metadata": {},
   "outputs": [
    {
     "name": "stdout",
     "output_type": "stream",
     "text": [
      "Accuracy :  90.81633 %"
     ]
    }
   ],
   "source": [
    "TP = 43\n",
    "TN = 46\n",
    "FP = 2\n",
    "FN = 7\n",
    "\n",
    "Accuracy = (TP + TN) / (TP + TN + FP + FN)\n",
    "cat(\"Accuracy : \", Accuracy*100, \"%\")"
   ]
  },
  {
   "cell_type": "markdown",
   "id": "activated-glenn",
   "metadata": {},
   "source": [
    "(g) Perform KNN on the training data, with several values of K, in order to predict mpg01. Use only the variables that seemed most associated with mpg01 in (b). What test errors do you obtain? Which value of K seems to perform the best on this data set?"
   ]
  },
  {
   "cell_type": "code",
   "execution_count": 59,
   "id": "complimentary-synthesis",
   "metadata": {},
   "outputs": [],
   "source": [
    "set.seed(1)\n",
    "train_auto = train_Auto[,c(\"cylinders\", \"weight\", \"year\")]\n",
    "test_auto =  test_Auto[,c(\"cylinders\", \"weight\", \"year\")]\n",
    "\n",
    "train_target = train_Auto[, \"mpg01\"]\n",
    "test_target = test_Auto[, \"mpg01\"]"
   ]
  },
  {
   "cell_type": "code",
   "execution_count": 62,
   "id": "beneficial-geology",
   "metadata": {},
   "outputs": [
    {
     "data": {
      "text/plain": [
       "     test_target\n",
       "knn_1  0  1\n",
       "    0 45  6\n",
       "    1  8 39"
      ]
     },
     "metadata": {},
     "output_type": "display_data"
    },
    {
     "name": "stdout",
     "output_type": "stream",
     "text": [
      "Accuracy :  0.8571429"
     ]
    }
   ],
   "source": [
    "knn_1 = knn(train_auto, test_auto, train_target, k = 1)\n",
    "table(knn_1, test_target)\n",
    "cat(\"Accuracy when k = 1: \", mean(knn_1 == test_target))\n"
   ]
  },
  {
   "cell_type": "code",
   "execution_count": 63,
   "id": "stupid-contact",
   "metadata": {},
   "outputs": [
    {
     "data": {
      "text/plain": [
       "     test_target\n",
       "knn_2  0  1\n",
       "    0 44  6\n",
       "    1  9 39"
      ]
     },
     "metadata": {},
     "output_type": "display_data"
    },
    {
     "name": "stdout",
     "output_type": "stream",
     "text": [
      "Accuracy :  0.8469388"
     ]
    }
   ],
   "source": [
    "knn_2 = knn(train_auto, test_auto, train_target, k = 2)\n",
    "table(knn_2, test_target)\n",
    "cat(\"Accuracy when k = 2: \", mean(knn_2 == test_target))\n"
   ]
  },
  {
   "cell_type": "code",
   "execution_count": 64,
   "id": "thermal-blues",
   "metadata": {},
   "outputs": [
    {
     "data": {
      "text/plain": [
       "     test_target\n",
       "knn_3  0  1\n",
       "    0 46  4\n",
       "    1  7 41"
      ]
     },
     "metadata": {},
     "output_type": "display_data"
    },
    {
     "name": "stdout",
     "output_type": "stream",
     "text": [
      "Accuracy when k = 3 :  0.8877551"
     ]
    }
   ],
   "source": [
    "knn_3 = knn(train_auto, test_auto, train_target, k = 3)\n",
    "table(knn_3, test_target)\n",
    "cat(\"Accuracy when k = 3 : \", mean(knn_3 == test_target))\n"
   ]
  },
  {
   "cell_type": "code",
   "execution_count": 65,
   "id": "saving-remains",
   "metadata": {},
   "outputs": [
    {
     "data": {
      "text/plain": [
       "     test_target\n",
       "knn_4  0  1\n",
       "    0 46  4\n",
       "    1  7 41"
      ]
     },
     "metadata": {},
     "output_type": "display_data"
    },
    {
     "name": "stdout",
     "output_type": "stream",
     "text": [
      "Accuracy when k = 4 :  0.8877551"
     ]
    }
   ],
   "source": [
    "knn_4 = knn(train_auto, test_auto, train_target, k = 4)\n",
    "table(knn_4, test_target)\n",
    "cat(\"Accuracy when k = 4 : \", mean(knn_4 == test_target))\n"
   ]
  },
  {
   "cell_type": "code",
   "execution_count": 66,
   "id": "friendly-farming",
   "metadata": {},
   "outputs": [
    {
     "data": {
      "text/plain": [
       "     test_target\n",
       "knn_5  0  1\n",
       "    0 46  6\n",
       "    1  7 39"
      ]
     },
     "metadata": {},
     "output_type": "display_data"
    },
    {
     "name": "stdout",
     "output_type": "stream",
     "text": [
      "Accuracy when k = 5 :  0.8673469"
     ]
    }
   ],
   "source": [
    "knn_5 = knn(train_auto, test_auto, train_target, k = 5)\n",
    "table(knn_5, test_target)\n",
    "cat(\"Accuracy when k = 5 : \", mean(knn_5 == test_target))\n"
   ]
  }
 ],
 "metadata": {
  "kernelspec": {
   "display_name": "R",
   "language": "R",
   "name": "ir"
  },
  "language_info": {
   "codemirror_mode": "r",
   "file_extension": ".r",
   "mimetype": "text/x-r-source",
   "name": "R",
   "pygments_lexer": "r",
   "version": "3.6.1"
  }
 },
 "nbformat": 4,
 "nbformat_minor": 5
}
