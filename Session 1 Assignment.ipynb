{
 "cells": [
  {
   "cell_type": "markdown",
   "id": "critical-spencer",
   "metadata": {},
   "source": [
    "### Exercise Question 2 (Page 52) Conceptual Question"
   ]
  },
  {
   "cell_type": "markdown",
   "id": "intimate-there",
   "metadata": {},
   "source": [
    "Explain whether each scenario is a classification or regression problem, and indicate whether we are most interested in inference or prediction. Finally, provide n and p.\n",
    "\n",
    "(a) We collect a set of data on the top 500 firms in the US. For each firm we record profit, number of employees, industry and the CEO salary. We are interested in understanding which factors affect CEO salary.\n",
    "\n",
    "Answer:\n",
    "\n",
    "Problem : Regression \n",
    "\n",
    "n = 500\n",
    "\n",
    "p = 4\n",
    "\n",
    "It is an inference problem as only the relationship between the variables and the target is asked, so the problem is to calculate the function f.\n",
    "***"
   ]
  },
  {
   "cell_type": "markdown",
   "id": "composite-salmon",
   "metadata": {},
   "source": [
    "(b) We are considering launching a new product and wish to know whether it will be a successor a failure. We collect data on 20 similar products that were previously launched. For each product we have recorded whether it was a success or failure, price charged for the product, marketing budget, competition price,and ten other variables.\n",
    "\n",
    "Answer :\n",
    "\n",
    "Problem : Classification (Classify product as success or failure)\n",
    "\n",
    "n = 20\n",
    "\n",
    "p = 13 variables (feature) and 1 target variable\n",
    "\n",
    "It is a prediction problem as the function f is used to classify the product as success or failure.\n",
    "***"
   ]
  },
  {
   "cell_type": "markdown",
   "id": "radical-employee",
   "metadata": {},
   "source": [
    "(c) We are interest in predicting the % change in the USD / Euro exchange rate in relation to the weekly changes in the world stock markets. Hence we collect weekly data for all of 2012. For each week we record the % change in the USD / Euro, the % change in the US market, the % change in the British market, and the % change in the German market.\n",
    "\n",
    "Answer :\n",
    "\n",
    "Problem : Prediction problem (to predict the change in exchange rate and the nature of the change (positive or negative) in terms of percent change)\n",
    "\n",
    "n = 52 (number of weeks in a year)\n",
    "\n",
    "p = 3 variables (features) and 1 target variable\n",
    "\n",
    "It is a predictions problem.\n",
    "***"
   ]
  },
  {
   "cell_type": "markdown",
   "id": "collect-incentive",
   "metadata": {},
   "source": [
    "### Exercise Question 10 (Page 56) Applied Question"
   ]
  },
  {
   "cell_type": "markdown",
   "id": "boxed-spread",
   "metadata": {},
   "source": [
    "This exercise involves the Boston housing data set.\n",
    "\n",
    "(a) To begin, load in the Boston data set. The Boston data set is part of the MASS library in R.\n",
    "> library(MASS)\n",
    "\n",
    "Now the data set is contained in the object Boston.\n",
    "> Boston\n",
    "\n",
    "Read about the data set:\n",
    "\n",
    "> ?Boston\n",
    "\n",
    "How many rows are in this data set? How many columns? What do the rows and columns represent?"
   ]
  },
  {
   "cell_type": "code",
   "execution_count": 1,
   "id": "loaded-traveler",
   "metadata": {},
   "outputs": [
    {
     "name": "stderr",
     "output_type": "stream",
     "text": [
      "Warning message:\n",
      "\"package 'MASS' was built under R version 3.6.3\""
     ]
    },
    {
     "data": {
      "text/html": [
       "<table>\n",
       "<thead><tr><th scope=col>crim</th><th scope=col>zn</th><th scope=col>indus</th><th scope=col>chas</th><th scope=col>nox</th><th scope=col>rm</th><th scope=col>age</th><th scope=col>dis</th><th scope=col>rad</th><th scope=col>tax</th><th scope=col>ptratio</th><th scope=col>black</th><th scope=col>lstat</th><th scope=col>medv</th></tr></thead>\n",
       "<tbody>\n",
       "\t<tr><td>0.00632</td><td>18     </td><td>2.31   </td><td>0      </td><td>0.538  </td><td>6.575  </td><td>65.2   </td><td>4.0900 </td><td>1      </td><td>296    </td><td>15.3   </td><td>396.90 </td><td>4.98   </td><td>24.0   </td></tr>\n",
       "\t<tr><td>0.02731</td><td> 0     </td><td>7.07   </td><td>0      </td><td>0.469  </td><td>6.421  </td><td>78.9   </td><td>4.9671 </td><td>2      </td><td>242    </td><td>17.8   </td><td>396.90 </td><td>9.14   </td><td>21.6   </td></tr>\n",
       "\t<tr><td>0.02729</td><td> 0     </td><td>7.07   </td><td>0      </td><td>0.469  </td><td>7.185  </td><td>61.1   </td><td>4.9671 </td><td>2      </td><td>242    </td><td>17.8   </td><td>392.83 </td><td>4.03   </td><td>34.7   </td></tr>\n",
       "\t<tr><td>0.03237</td><td> 0     </td><td>2.18   </td><td>0      </td><td>0.458  </td><td>6.998  </td><td>45.8   </td><td>6.0622 </td><td>3      </td><td>222    </td><td>18.7   </td><td>394.63 </td><td>2.94   </td><td>33.4   </td></tr>\n",
       "</tbody>\n",
       "</table>\n"
      ],
      "text/latex": [
       "\\begin{tabular}{r|llllllllllllll}\n",
       " crim & zn & indus & chas & nox & rm & age & dis & rad & tax & ptratio & black & lstat & medv\\\\\n",
       "\\hline\n",
       "\t 0.00632 & 18      & 2.31    & 0       & 0.538   & 6.575   & 65.2    & 4.0900  & 1       & 296     & 15.3    & 396.90  & 4.98    & 24.0   \\\\\n",
       "\t 0.02731 &  0      & 7.07    & 0       & 0.469   & 6.421   & 78.9    & 4.9671  & 2       & 242     & 17.8    & 396.90  & 9.14    & 21.6   \\\\\n",
       "\t 0.02729 &  0      & 7.07    & 0       & 0.469   & 7.185   & 61.1    & 4.9671  & 2       & 242     & 17.8    & 392.83  & 4.03    & 34.7   \\\\\n",
       "\t 0.03237 &  0      & 2.18    & 0       & 0.458   & 6.998   & 45.8    & 6.0622  & 3       & 222     & 18.7    & 394.63  & 2.94    & 33.4   \\\\\n",
       "\\end{tabular}\n"
      ],
      "text/markdown": [
       "\n",
       "| crim | zn | indus | chas | nox | rm | age | dis | rad | tax | ptratio | black | lstat | medv |\n",
       "|---|---|---|---|---|---|---|---|---|---|---|---|---|---|\n",
       "| 0.00632 | 18      | 2.31    | 0       | 0.538   | 6.575   | 65.2    | 4.0900  | 1       | 296     | 15.3    | 396.90  | 4.98    | 24.0    |\n",
       "| 0.02731 |  0      | 7.07    | 0       | 0.469   | 6.421   | 78.9    | 4.9671  | 2       | 242     | 17.8    | 396.90  | 9.14    | 21.6    |\n",
       "| 0.02729 |  0      | 7.07    | 0       | 0.469   | 7.185   | 61.1    | 4.9671  | 2       | 242     | 17.8    | 392.83  | 4.03    | 34.7    |\n",
       "| 0.03237 |  0      | 2.18    | 0       | 0.458   | 6.998   | 45.8    | 6.0622  | 3       | 222     | 18.7    | 394.63  | 2.94    | 33.4    |\n",
       "\n"
      ],
      "text/plain": [
       "  crim    zn indus chas nox   rm    age  dis    rad tax ptratio black  lstat\n",
       "1 0.00632 18 2.31  0    0.538 6.575 65.2 4.0900 1   296 15.3    396.90 4.98 \n",
       "2 0.02731  0 7.07  0    0.469 6.421 78.9 4.9671 2   242 17.8    396.90 9.14 \n",
       "3 0.02729  0 7.07  0    0.469 7.185 61.1 4.9671 2   242 17.8    392.83 4.03 \n",
       "4 0.03237  0 2.18  0    0.458 6.998 45.8 6.0622 3   222 18.7    394.63 2.94 \n",
       "  medv\n",
       "1 24.0\n",
       "2 21.6\n",
       "3 34.7\n",
       "4 33.4"
      ]
     },
     "metadata": {},
     "output_type": "display_data"
    }
   ],
   "source": [
    "library(MASS)\n",
    "head(Boston, n = 4)\n",
    "?Boston"
   ]
  },
  {
   "cell_type": "code",
   "execution_count": 2,
   "id": "eight-arizona",
   "metadata": {},
   "outputs": [
    {
     "name": "stdout",
     "output_type": "stream",
     "text": [
      "Number of rows :  506 \n",
      "Number of columns :  14"
     ]
    }
   ],
   "source": [
    "cat(\"Number of rows : \", nrow(Boston),'\\n')\n",
    "cat(\"Number of columns : \", ncol(Boston))"
   ]
  },
  {
   "cell_type": "markdown",
   "id": "proved-script",
   "metadata": {},
   "source": [
    "Rows represent the number of data points (n) and columns represent the number of features (p)."
   ]
  },
  {
   "cell_type": "markdown",
   "id": "annoying-conducting",
   "metadata": {},
   "source": [
    "(b) Make some pairwise scatterplots of the predictors (columns) in this data set. Describe your findings."
   ]
  },
  {
   "cell_type": "code",
   "execution_count": 3,
   "id": "usual-grammar",
   "metadata": {},
   "outputs": [
    {
     "data": {
      "image/png": "[encoded data removed]",
      "text/plain": [
       "plot without title"
      ]
     },
     "metadata": {},
     "output_type": "display_data"
    }
   ],
   "source": [
    "pairs(Boston[,], lower.panel=NULL)"
   ]
  },
  {
   "cell_type": "markdown",
   "id": "floral-starter",
   "metadata": {},
   "source": [
    "Some features have strong co-relations while some do not. Not all variables affect each other or the price of the house. Factors do not equally contribute to the price of the house."
   ]
  },
  {
   "cell_type": "markdown",
   "id": "eligible-spoke",
   "metadata": {},
   "source": [
    "(c) Are any of the predictors associated with per capita crime rate? If so, explain the relationship."
   ]
  },
  {
   "cell_type": "code",
   "execution_count": 4,
   "id": "thirty-measure",
   "metadata": {},
   "outputs": [
    {
     "data": {
      "image/png": "[encoded data removed]",
      "text/plain": [
       "plot without title"
      ]
     },
     "metadata": {},
     "output_type": "display_data"
    },
    {
     "data": {
      "image/png": "[encoded data removed]",
      "text/plain": [
       "plot without title"
      ]
     },
     "metadata": {},
     "output_type": "display_data"
    },
    {
     "data": {
      "image/png": "[encoded data removed]",
      "text/plain": [
       "plot without title"
      ]
     },
     "metadata": {},
     "output_type": "display_data"
    },
    {
     "data": {
      "image/png": "[encoded data removed]",
      "text/plain": [
       "plot without title"
      ]
     },
     "metadata": {},
     "output_type": "display_data"
    },
    {
     "data": {
      "image/png": "[encoded data removed]",
      "text/plain": [
       "plot without title"
      ]
     },
     "metadata": {},
     "output_type": "display_data"
    }
   ],
   "source": [
    "# Plot the data\n",
    "options(repr.plot.width=10, repr.plot.height=5)  # Set plot size\n",
    "par(mfrow=c(1, 3))\n",
    "\n",
    "plot(Boston$crim, Boston$zn, xlab=\"Crime\")\n",
    "abline(lm(crim ~ zn, data=Boston), col='red')\n",
    "\n",
    "plot(Boston$crim, Boston$indus, xlab=\"Crime\")\n",
    "abline(lm(crim ~ indus, data=Boston), col='red')\n",
    "\n",
    "plot(Boston$crim, Boston$chas, xlab=\"Crime\")\n",
    "abline(lm(crim ~ chas, data=Boston), col='red')\n",
    "\n",
    "plot(Boston$crim, Boston$nox, xlab=\"Crime\")\n",
    "abline(lm(crim ~ nox, data=Boston), col='red')\n",
    "\n",
    "plot(Boston$crim, Boston$rm, xlab=\"Crime\")\n",
    "abline(lm(crim ~ rm, data=Boston), col='red')\n",
    "\n",
    "plot(Boston$crim, Boston$age, xlab=\"Crime\")\n",
    "abline(lm(crim ~ age, data=Boston), col='red')\n",
    "\n",
    "plot(Boston$crim, Boston$dis, xlab=\"Crime\")\n",
    "abline(lm(crim ~ dis, data=Boston), col='red')\n",
    "\n",
    "plot(Boston$crim, Boston$rad, xlab=\"Crime\")\n",
    "abline(lm(crim ~ rad, data=Boston), col='red')\n",
    "\n",
    "plot(Boston$crim, Boston$tax, xlab=\"Crime\")\n",
    "abline(lm(crim ~ tax, data=Boston), col='red')\n",
    "\n",
    "plot(Boston$crim, Boston$ptratio, xlab=\"Crime\")\n",
    "abline(lm(crim ~ ptratio, data=Boston), col='red')\n",
    "\n",
    "plot(Boston$crim, Boston$black, xlab=\"Crime\")\n",
    "abline(lm(crim ~ black, data=Boston), col='red')\n",
    "\n",
    "plot(Boston$crim, Boston$lstat, xlab=\"Crime\")\n",
    "abline(lm(crim ~ lstat, data=Boston), col='red')\n",
    "\n",
    "plot(Boston$crim, Boston$medv, xlab=\"Crime\")\n",
    "abline(lm(crim ~ medv, data=Boston), col='red')\n",
    "\n"
   ]
  },
  {
   "cell_type": "markdown",
   "id": "technological-immune",
   "metadata": {},
   "source": [
    "(d) Do any of the suburbs of Boston appear to have particularly high crime rates? Tax rates? Pupil-teacher ratios? Comment on the range of each predictor."
   ]
  },
  {
   "cell_type": "markdown",
   "id": "compact-taiwan",
   "metadata": {},
   "source": [
    "crim : per capita crime rate by town.\n",
    "\n",
    "zn : proportion of residential land zoned for lots over 25,000 sq.ft.\n",
    "\n",
    "indus : proportion of non-retail business acres per town.\n",
    "\n",
    "chas : Charles River dummy variable (= 1 if tract bounds river; 0 otherwise).\n",
    "\n",
    "nox : nitrogen oxides concentration (parts per 10 million).\n",
    "\n",
    "rm : average number of rooms per dwelling.\n",
    "\n",
    "age : proportion of owner-occupied units built prior to 1940.\n",
    "\n",
    "dis : weighted mean of distances to five Boston employment centres.\n",
    "\n",
    "rad : index of accessibility to radial highways.\n",
    "\n",
    "tax : full-value property-tax rate per $10,000.\n",
    "\n",
    "ptratio : pupil-teacher ratio by town.\n",
    "\n",
    "black : 1000(𝐵𝑘−0.63)2 where 𝐵𝑘 is the proportion of blacks by town.\n",
    "\n",
    "lstat : lower status of the population (percent).\n",
    "\n",
    "medv : median value of owner-occupied homes in $1000s"
   ]
  },
  {
   "cell_type": "code",
   "execution_count": 5,
   "id": "differential-professional",
   "metadata": {},
   "outputs": [
    {
     "data": {
      "text/html": [
       "<table>\n",
       "<thead><tr><th scope=col>crim</th><th scope=col>zn</th><th scope=col>indus</th><th scope=col>chas</th><th scope=col>nox</th><th scope=col>rm</th><th scope=col>age</th><th scope=col>dis</th><th scope=col>rad</th><th scope=col>tax</th><th scope=col>ptratio</th><th scope=col>black</th><th scope=col>lstat</th><th scope=col>medv</th></tr></thead>\n",
       "<tbody>\n",
       "\t<tr><td>0.00632</td><td>18     </td><td>2.31   </td><td>0      </td><td>0.538  </td><td>6.575  </td><td>65.2   </td><td>4.0900 </td><td>1      </td><td>296    </td><td>15.3   </td><td>396.90 </td><td>4.98   </td><td>24.0   </td></tr>\n",
       "\t<tr><td>0.02731</td><td> 0     </td><td>7.07   </td><td>0      </td><td>0.469  </td><td>6.421  </td><td>78.9   </td><td>4.9671 </td><td>2      </td><td>242    </td><td>17.8   </td><td>396.90 </td><td>9.14   </td><td>21.6   </td></tr>\n",
       "\t<tr><td>0.02729</td><td> 0     </td><td>7.07   </td><td>0      </td><td>0.469  </td><td>7.185  </td><td>61.1   </td><td>4.9671 </td><td>2      </td><td>242    </td><td>17.8   </td><td>392.83 </td><td>4.03   </td><td>34.7   </td></tr>\n",
       "\t<tr><td>0.03237</td><td> 0     </td><td>2.18   </td><td>0      </td><td>0.458  </td><td>6.998  </td><td>45.8   </td><td>6.0622 </td><td>3      </td><td>222    </td><td>18.7   </td><td>394.63 </td><td>2.94   </td><td>33.4   </td></tr>\n",
       "\t<tr><td>0.06905</td><td> 0     </td><td>2.18   </td><td>0      </td><td>0.458  </td><td>7.147  </td><td>54.2   </td><td>6.0622 </td><td>3      </td><td>222    </td><td>18.7   </td><td>396.90 </td><td>5.33   </td><td>36.2   </td></tr>\n",
       "\t<tr><td>0.02985</td><td> 0     </td><td>2.18   </td><td>0      </td><td>0.458  </td><td>6.430  </td><td>58.7   </td><td>6.0622 </td><td>3      </td><td>222    </td><td>18.7   </td><td>394.12 </td><td>5.21   </td><td>28.7   </td></tr>\n",
       "</tbody>\n",
       "</table>\n"
      ],
      "text/latex": [
       "\\begin{tabular}{r|llllllllllllll}\n",
       " crim & zn & indus & chas & nox & rm & age & dis & rad & tax & ptratio & black & lstat & medv\\\\\n",
       "\\hline\n",
       "\t 0.00632 & 18      & 2.31    & 0       & 0.538   & 6.575   & 65.2    & 4.0900  & 1       & 296     & 15.3    & 396.90  & 4.98    & 24.0   \\\\\n",
       "\t 0.02731 &  0      & 7.07    & 0       & 0.469   & 6.421   & 78.9    & 4.9671  & 2       & 242     & 17.8    & 396.90  & 9.14    & 21.6   \\\\\n",
       "\t 0.02729 &  0      & 7.07    & 0       & 0.469   & 7.185   & 61.1    & 4.9671  & 2       & 242     & 17.8    & 392.83  & 4.03    & 34.7   \\\\\n",
       "\t 0.03237 &  0      & 2.18    & 0       & 0.458   & 6.998   & 45.8    & 6.0622  & 3       & 222     & 18.7    & 394.63  & 2.94    & 33.4   \\\\\n",
       "\t 0.06905 &  0      & 2.18    & 0       & 0.458   & 7.147   & 54.2    & 6.0622  & 3       & 222     & 18.7    & 396.90  & 5.33    & 36.2   \\\\\n",
       "\t 0.02985 &  0      & 2.18    & 0       & 0.458   & 6.430   & 58.7    & 6.0622  & 3       & 222     & 18.7    & 394.12  & 5.21    & 28.7   \\\\\n",
       "\\end{tabular}\n"
      ],
      "text/markdown": [
       "\n",
       "| crim | zn | indus | chas | nox | rm | age | dis | rad | tax | ptratio | black | lstat | medv |\n",
       "|---|---|---|---|---|---|---|---|---|---|---|---|---|---|\n",
       "| 0.00632 | 18      | 2.31    | 0       | 0.538   | 6.575   | 65.2    | 4.0900  | 1       | 296     | 15.3    | 396.90  | 4.98    | 24.0    |\n",
       "| 0.02731 |  0      | 7.07    | 0       | 0.469   | 6.421   | 78.9    | 4.9671  | 2       | 242     | 17.8    | 396.90  | 9.14    | 21.6    |\n",
       "| 0.02729 |  0      | 7.07    | 0       | 0.469   | 7.185   | 61.1    | 4.9671  | 2       | 242     | 17.8    | 392.83  | 4.03    | 34.7    |\n",
       "| 0.03237 |  0      | 2.18    | 0       | 0.458   | 6.998   | 45.8    | 6.0622  | 3       | 222     | 18.7    | 394.63  | 2.94    | 33.4    |\n",
       "| 0.06905 |  0      | 2.18    | 0       | 0.458   | 7.147   | 54.2    | 6.0622  | 3       | 222     | 18.7    | 396.90  | 5.33    | 36.2    |\n",
       "| 0.02985 |  0      | 2.18    | 0       | 0.458   | 6.430   | 58.7    | 6.0622  | 3       | 222     | 18.7    | 394.12  | 5.21    | 28.7    |\n",
       "\n"
      ],
      "text/plain": [
       "  crim    zn indus chas nox   rm    age  dis    rad tax ptratio black  lstat\n",
       "1 0.00632 18 2.31  0    0.538 6.575 65.2 4.0900 1   296 15.3    396.90 4.98 \n",
       "2 0.02731  0 7.07  0    0.469 6.421 78.9 4.9671 2   242 17.8    396.90 9.14 \n",
       "3 0.02729  0 7.07  0    0.469 7.185 61.1 4.9671 2   242 17.8    392.83 4.03 \n",
       "4 0.03237  0 2.18  0    0.458 6.998 45.8 6.0622 3   222 18.7    394.63 2.94 \n",
       "5 0.06905  0 2.18  0    0.458 7.147 54.2 6.0622 3   222 18.7    396.90 5.33 \n",
       "6 0.02985  0 2.18  0    0.458 6.430 58.7 6.0622 3   222 18.7    394.12 5.21 \n",
       "  medv\n",
       "1 24.0\n",
       "2 21.6\n",
       "3 34.7\n",
       "4 33.4\n",
       "5 36.2\n",
       "6 28.7"
      ]
     },
     "metadata": {},
     "output_type": "display_data"
    }
   ],
   "source": [
    "?Boston\n",
    "head(Boston)"
   ]
  },
  {
   "cell_type": "markdown",
   "id": "tribal-lesbian",
   "metadata": {},
   "source": [
    "(e) How many of the suburbs in this data set bound the Charles river?"
   ]
  },
  {
   "cell_type": "code",
   "execution_count": 6,
   "id": "hispanic-mother",
   "metadata": {},
   "outputs": [
    {
     "data": {
      "text/html": [
       "35"
      ],
      "text/latex": [
       "35"
      ],
      "text/markdown": [
       "35"
      ],
      "text/plain": [
       "[1] 35"
      ]
     },
     "metadata": {},
     "output_type": "display_data"
    }
   ],
   "source": [
    "sum(Boston$chas == 1)"
   ]
  },
  {
   "cell_type": "markdown",
   "id": "creative-listing",
   "metadata": {},
   "source": [
    "(f) What is the median pupil-teacher ratio among the towns in this data set?"
   ]
  },
  {
   "cell_type": "code",
   "execution_count": 7,
   "id": "spatial-mileage",
   "metadata": {},
   "outputs": [
    {
     "data": {
      "text/html": [
       "19.05"
      ],
      "text/latex": [
       "19.05"
      ],
      "text/markdown": [
       "19.05"
      ],
      "text/plain": [
       "[1] 19.05"
      ]
     },
     "metadata": {},
     "output_type": "display_data"
    }
   ],
   "source": [
    "median(Boston$ptratio)"
   ]
  },
  {
   "cell_type": "markdown",
   "id": "illegal-thompson",
   "metadata": {},
   "source": [
    "(g) Which suburb of Boston has lowest median value of owner-occupied homes? What are the values of the other predictors for that suburb, and how do those values compare to the overall ranges for those predictors? Comment on your findings."
   ]
  },
  {
   "cell_type": "code",
   "execution_count": 8,
   "id": "primary-triangle",
   "metadata": {},
   "outputs": [
    {
     "data": {
      "text/html": [
       "<table>\n",
       "<thead><tr><th></th><th scope=col>crim</th><th scope=col>zn</th><th scope=col>indus</th><th scope=col>chas</th><th scope=col>nox</th><th scope=col>rm</th><th scope=col>age</th><th scope=col>dis</th><th scope=col>rad</th><th scope=col>tax</th><th scope=col>ptratio</th><th scope=col>black</th><th scope=col>lstat</th><th scope=col>medv</th></tr></thead>\n",
       "<tbody>\n",
       "\t<tr><th scope=row>42</th><td>0.12744</td><td>0      </td><td>6.91   </td><td>0      </td><td>0.448  </td><td>6.77   </td><td>2.9    </td><td>5.7209 </td><td>3      </td><td>233    </td><td>17.9   </td><td>385.41 </td><td>4.84   </td><td>26.6   </td></tr>\n",
       "</tbody>\n",
       "</table>\n"
      ],
      "text/latex": [
       "\\begin{tabular}{r|llllllllllllll}\n",
       "  & crim & zn & indus & chas & nox & rm & age & dis & rad & tax & ptratio & black & lstat & medv\\\\\n",
       "\\hline\n",
       "\t42 & 0.12744 & 0       & 6.91    & 0       & 0.448   & 6.77    & 2.9     & 5.7209  & 3       & 233     & 17.9    & 385.41  & 4.84    & 26.6   \\\\\n",
       "\\end{tabular}\n"
      ],
      "text/markdown": [
       "\n",
       "| <!--/--> | crim | zn | indus | chas | nox | rm | age | dis | rad | tax | ptratio | black | lstat | medv |\n",
       "|---|---|---|---|---|---|---|---|---|---|---|---|---|---|---|\n",
       "| 42 | 0.12744 | 0       | 6.91    | 0       | 0.448   | 6.77    | 2.9     | 5.7209  | 3       | 233     | 17.9    | 385.41  | 4.84    | 26.6    |\n",
       "\n"
      ],
      "text/plain": [
       "   crim    zn indus chas nox   rm   age dis    rad tax ptratio black  lstat\n",
       "42 0.12744 0  6.91  0    0.448 6.77 2.9 5.7209 3   233 17.9    385.41 4.84 \n",
       "   medv\n",
       "42 26.6"
      ]
     },
     "metadata": {},
     "output_type": "display_data"
    }
   ],
   "source": [
    "Boston[Boston$age == min(Boston$age),]"
   ]
  },
  {
   "cell_type": "markdown",
   "id": "invalid-latitude",
   "metadata": {},
   "source": [
    "(h) In this data set, how many of the suburbs average more than seven rooms per dwelling? More than eight rooms per dwelling? Comment on the suburbs that average more than eight rooms per dwelling"
   ]
  },
  {
   "cell_type": "code",
   "execution_count": 9,
   "id": "endless-austria",
   "metadata": {},
   "outputs": [
    {
     "data": {
      "text/html": [
       "64"
      ],
      "text/latex": [
       "64"
      ],
      "text/markdown": [
       "64"
      ],
      "text/plain": [
       "[1] 64"
      ]
     },
     "metadata": {},
     "output_type": "display_data"
    },
    {
     "data": {
      "text/html": [
       "<table>\n",
       "<thead><tr><th></th><th scope=col>crim</th><th scope=col>zn</th><th scope=col>indus</th><th scope=col>chas</th><th scope=col>nox</th><th scope=col>rm</th><th scope=col>age</th><th scope=col>dis</th><th scope=col>rad</th><th scope=col>tax</th><th scope=col>ptratio</th><th scope=col>black</th><th scope=col>lstat</th><th scope=col>medv</th></tr></thead>\n",
       "<tbody>\n",
       "\t<tr><th scope=row>3</th><td>0.02729</td><td> 0.0   </td><td>7.07   </td><td>0      </td><td>0.4690 </td><td>7.185  </td><td>61.1   </td><td>4.9671 </td><td>2      </td><td>242    </td><td>17.8   </td><td>392.83 </td><td>4.03   </td><td>34.7   </td></tr>\n",
       "\t<tr><th scope=row>5</th><td>0.06905</td><td> 0.0   </td><td>2.18   </td><td>0      </td><td>0.4580 </td><td>7.147  </td><td>54.2   </td><td>6.0622 </td><td>3      </td><td>222    </td><td>18.7   </td><td>396.90 </td><td>5.33   </td><td>36.2   </td></tr>\n",
       "\t<tr><th scope=row>41</th><td>0.03359</td><td>75.0   </td><td>2.95   </td><td>0      </td><td>0.4280 </td><td>7.024  </td><td>15.8   </td><td>5.4011 </td><td>3      </td><td>252    </td><td>18.3   </td><td>395.62 </td><td>1.98   </td><td>34.9   </td></tr>\n",
       "\t<tr><th scope=row>56</th><td>0.01311</td><td>90.0   </td><td>1.22   </td><td>0      </td><td>0.4030 </td><td>7.249  </td><td>21.9   </td><td>8.6966 </td><td>5      </td><td>226    </td><td>17.9   </td><td>395.93 </td><td>4.81   </td><td>35.4   </td></tr>\n",
       "\t<tr><th scope=row>65</th><td>0.01951</td><td>17.5   </td><td>1.38   </td><td>0      </td><td>0.4161 </td><td>7.104  </td><td>59.5   </td><td>9.2229 </td><td>3      </td><td>216    </td><td>18.6   </td><td>393.24 </td><td>8.05   </td><td>33.0   </td></tr>\n",
       "\t<tr><th scope=row>89</th><td>0.05660</td><td> 0.0   </td><td>3.41   </td><td>0      </td><td>0.4890 </td><td>7.007  </td><td>86.3   </td><td>3.4217 </td><td>2      </td><td>270    </td><td>17.8   </td><td>396.90 </td><td>5.50   </td><td>23.6   </td></tr>\n",
       "\t<tr><th scope=row>90</th><td>0.05302</td><td> 0.0   </td><td>3.41   </td><td>0      </td><td>0.4890 </td><td>7.079  </td><td>63.1   </td><td>3.4145 </td><td>2      </td><td>270    </td><td>17.8   </td><td>396.06 </td><td>5.70   </td><td>28.7   </td></tr>\n",
       "\t<tr><th scope=row>98</th><td>0.12083</td><td> 0.0   </td><td>2.89   </td><td>0      </td><td>0.4450 </td><td>8.069  </td><td>76.0   </td><td>3.4952 </td><td>2      </td><td>276    </td><td>18.0   </td><td>396.90 </td><td>4.21   </td><td>38.7   </td></tr>\n",
       "\t<tr><th scope=row>99</th><td>0.08187</td><td> 0.0   </td><td>2.89   </td><td>0      </td><td>0.4450 </td><td>7.820  </td><td>36.9   </td><td>3.4952 </td><td>2      </td><td>276    </td><td>18.0   </td><td>393.53 </td><td>3.57   </td><td>43.8   </td></tr>\n",
       "\t<tr><th scope=row>100</th><td>0.06860</td><td> 0.0   </td><td>2.89   </td><td>0      </td><td>0.4450 </td><td>7.416  </td><td>62.5   </td><td>3.4952 </td><td>2      </td><td>276    </td><td>18.0   </td><td>396.90 </td><td>6.19   </td><td>33.2   </td></tr>\n",
       "</tbody>\n",
       "</table>\n"
      ],
      "text/latex": [
       "\\begin{tabular}{r|llllllllllllll}\n",
       "  & crim & zn & indus & chas & nox & rm & age & dis & rad & tax & ptratio & black & lstat & medv\\\\\n",
       "\\hline\n",
       "\t3 & 0.02729 &  0.0    & 7.07    & 0       & 0.4690  & 7.185   & 61.1    & 4.9671  & 2       & 242     & 17.8    & 392.83  & 4.03    & 34.7   \\\\\n",
       "\t5 & 0.06905 &  0.0    & 2.18    & 0       & 0.4580  & 7.147   & 54.2    & 6.0622  & 3       & 222     & 18.7    & 396.90  & 5.33    & 36.2   \\\\\n",
       "\t41 & 0.03359 & 75.0    & 2.95    & 0       & 0.4280  & 7.024   & 15.8    & 5.4011  & 3       & 252     & 18.3    & 395.62  & 1.98    & 34.9   \\\\\n",
       "\t56 & 0.01311 & 90.0    & 1.22    & 0       & 0.4030  & 7.249   & 21.9    & 8.6966  & 5       & 226     & 17.9    & 395.93  & 4.81    & 35.4   \\\\\n",
       "\t65 & 0.01951 & 17.5    & 1.38    & 0       & 0.4161  & 7.104   & 59.5    & 9.2229  & 3       & 216     & 18.6    & 393.24  & 8.05    & 33.0   \\\\\n",
       "\t89 & 0.05660 &  0.0    & 3.41    & 0       & 0.4890  & 7.007   & 86.3    & 3.4217  & 2       & 270     & 17.8    & 396.90  & 5.50    & 23.6   \\\\\n",
       "\t90 & 0.05302 &  0.0    & 3.41    & 0       & 0.4890  & 7.079   & 63.1    & 3.4145  & 2       & 270     & 17.8    & 396.06  & 5.70    & 28.7   \\\\\n",
       "\t98 & 0.12083 &  0.0    & 2.89    & 0       & 0.4450  & 8.069   & 76.0    & 3.4952  & 2       & 276     & 18.0    & 396.90  & 4.21    & 38.7   \\\\\n",
       "\t99 & 0.08187 &  0.0    & 2.89    & 0       & 0.4450  & 7.820   & 36.9    & 3.4952  & 2       & 276     & 18.0    & 393.53  & 3.57    & 43.8   \\\\\n",
       "\t100 & 0.06860 &  0.0    & 2.89    & 0       & 0.4450  & 7.416   & 62.5    & 3.4952  & 2       & 276     & 18.0    & 396.90  & 6.19    & 33.2   \\\\\n",
       "\\end{tabular}\n"
      ],
      "text/markdown": [
       "\n",
       "| <!--/--> | crim | zn | indus | chas | nox | rm | age | dis | rad | tax | ptratio | black | lstat | medv |\n",
       "|---|---|---|---|---|---|---|---|---|---|---|---|---|---|---|\n",
       "| 3 | 0.02729 |  0.0    | 7.07    | 0       | 0.4690  | 7.185   | 61.1    | 4.9671  | 2       | 242     | 17.8    | 392.83  | 4.03    | 34.7    |\n",
       "| 5 | 0.06905 |  0.0    | 2.18    | 0       | 0.4580  | 7.147   | 54.2    | 6.0622  | 3       | 222     | 18.7    | 396.90  | 5.33    | 36.2    |\n",
       "| 41 | 0.03359 | 75.0    | 2.95    | 0       | 0.4280  | 7.024   | 15.8    | 5.4011  | 3       | 252     | 18.3    | 395.62  | 1.98    | 34.9    |\n",
       "| 56 | 0.01311 | 90.0    | 1.22    | 0       | 0.4030  | 7.249   | 21.9    | 8.6966  | 5       | 226     | 17.9    | 395.93  | 4.81    | 35.4    |\n",
       "| 65 | 0.01951 | 17.5    | 1.38    | 0       | 0.4161  | 7.104   | 59.5    | 9.2229  | 3       | 216     | 18.6    | 393.24  | 8.05    | 33.0    |\n",
       "| 89 | 0.05660 |  0.0    | 3.41    | 0       | 0.4890  | 7.007   | 86.3    | 3.4217  | 2       | 270     | 17.8    | 396.90  | 5.50    | 23.6    |\n",
       "| 90 | 0.05302 |  0.0    | 3.41    | 0       | 0.4890  | 7.079   | 63.1    | 3.4145  | 2       | 270     | 17.8    | 396.06  | 5.70    | 28.7    |\n",
       "| 98 | 0.12083 |  0.0    | 2.89    | 0       | 0.4450  | 8.069   | 76.0    | 3.4952  | 2       | 276     | 18.0    | 396.90  | 4.21    | 38.7    |\n",
       "| 99 | 0.08187 |  0.0    | 2.89    | 0       | 0.4450  | 7.820   | 36.9    | 3.4952  | 2       | 276     | 18.0    | 393.53  | 3.57    | 43.8    |\n",
       "| 100 | 0.06860 |  0.0    | 2.89    | 0       | 0.4450  | 7.416   | 62.5    | 3.4952  | 2       | 276     | 18.0    | 396.90  | 6.19    | 33.2    |\n",
       "\n"
      ],
      "text/plain": [
       "    crim    zn   indus chas nox    rm    age  dis    rad tax ptratio black \n",
       "3   0.02729  0.0 7.07  0    0.4690 7.185 61.1 4.9671 2   242 17.8    392.83\n",
       "5   0.06905  0.0 2.18  0    0.4580 7.147 54.2 6.0622 3   222 18.7    396.90\n",
       "41  0.03359 75.0 2.95  0    0.4280 7.024 15.8 5.4011 3   252 18.3    395.62\n",
       "56  0.01311 90.0 1.22  0    0.4030 7.249 21.9 8.6966 5   226 17.9    395.93\n",
       "65  0.01951 17.5 1.38  0    0.4161 7.104 59.5 9.2229 3   216 18.6    393.24\n",
       "89  0.05660  0.0 3.41  0    0.4890 7.007 86.3 3.4217 2   270 17.8    396.90\n",
       "90  0.05302  0.0 3.41  0    0.4890 7.079 63.1 3.4145 2   270 17.8    396.06\n",
       "98  0.12083  0.0 2.89  0    0.4450 8.069 76.0 3.4952 2   276 18.0    396.90\n",
       "99  0.08187  0.0 2.89  0    0.4450 7.820 36.9 3.4952 2   276 18.0    393.53\n",
       "100 0.06860  0.0 2.89  0    0.4450 7.416 62.5 3.4952 2   276 18.0    396.90\n",
       "    lstat medv\n",
       "3   4.03  34.7\n",
       "5   5.33  36.2\n",
       "41  1.98  34.9\n",
       "56  4.81  35.4\n",
       "65  8.05  33.0\n",
       "89  5.50  23.6\n",
       "90  5.70  28.7\n",
       "98  4.21  38.7\n",
       "99  3.57  43.8\n",
       "100 6.19  33.2"
      ]
     },
     "metadata": {},
     "output_type": "display_data"
    }
   ],
   "source": [
    "nrow(Boston[Boston$rm > 7,])\n",
    "head(Boston[Boston$rm > 7,], n = 10)"
   ]
  },
  {
   "cell_type": "code",
   "execution_count": 10,
   "id": "exact-level",
   "metadata": {
    "scrolled": true
   },
   "outputs": [
    {
     "data": {
      "text/html": [
       "13"
      ],
      "text/latex": [
       "13"
      ],
      "text/markdown": [
       "13"
      ],
      "text/plain": [
       "[1] 13"
      ]
     },
     "metadata": {},
     "output_type": "display_data"
    },
    {
     "data": {
      "text/html": [
       "<table>\n",
       "<thead><tr><th></th><th scope=col>crim</th><th scope=col>zn</th><th scope=col>indus</th><th scope=col>chas</th><th scope=col>nox</th><th scope=col>rm</th><th scope=col>age</th><th scope=col>dis</th><th scope=col>rad</th><th scope=col>tax</th><th scope=col>ptratio</th><th scope=col>black</th><th scope=col>lstat</th><th scope=col>medv</th></tr></thead>\n",
       "<tbody>\n",
       "\t<tr><th scope=row>98</th><td>0.12083</td><td> 0     </td><td> 2.89  </td><td>0      </td><td>0.4450 </td><td>8.069  </td><td>76.0   </td><td>3.4952 </td><td>2      </td><td>276    </td><td>18.0   </td><td>396.90 </td><td>4.21   </td><td>38.7   </td></tr>\n",
       "\t<tr><th scope=row>164</th><td>1.51902</td><td> 0     </td><td>19.58  </td><td>1      </td><td>0.6050 </td><td>8.375  </td><td>93.9   </td><td>2.1620 </td><td>5      </td><td>403    </td><td>14.7   </td><td>388.45 </td><td>3.32   </td><td>50.0   </td></tr>\n",
       "\t<tr><th scope=row>205</th><td>0.02009</td><td>95     </td><td> 2.68  </td><td>0      </td><td>0.4161 </td><td>8.034  </td><td>31.9   </td><td>5.1180 </td><td>4      </td><td>224    </td><td>14.7   </td><td>390.55 </td><td>2.88   </td><td>50.0   </td></tr>\n",
       "\t<tr><th scope=row>225</th><td>0.31533</td><td> 0     </td><td> 6.20  </td><td>0      </td><td>0.5040 </td><td>8.266  </td><td>78.3   </td><td>2.8944 </td><td>8      </td><td>307    </td><td>17.4   </td><td>385.05 </td><td>4.14   </td><td>44.8   </td></tr>\n",
       "\t<tr><th scope=row>226</th><td>0.52693</td><td> 0     </td><td> 6.20  </td><td>0      </td><td>0.5040 </td><td>8.725  </td><td>83.0   </td><td>2.8944 </td><td>8      </td><td>307    </td><td>17.4   </td><td>382.00 </td><td>4.63   </td><td>50.0   </td></tr>\n",
       "\t<tr><th scope=row>227</th><td>0.38214</td><td> 0     </td><td> 6.20  </td><td>0      </td><td>0.5040 </td><td>8.040  </td><td>86.5   </td><td>3.2157 </td><td>8      </td><td>307    </td><td>17.4   </td><td>387.38 </td><td>3.13   </td><td>37.6   </td></tr>\n",
       "\t<tr><th scope=row>233</th><td>0.57529</td><td> 0     </td><td> 6.20  </td><td>0      </td><td>0.5070 </td><td>8.337  </td><td>73.3   </td><td>3.8384 </td><td>8      </td><td>307    </td><td>17.4   </td><td>385.91 </td><td>2.47   </td><td>41.7   </td></tr>\n",
       "\t<tr><th scope=row>234</th><td>0.33147</td><td> 0     </td><td> 6.20  </td><td>0      </td><td>0.5070 </td><td>8.247  </td><td>70.4   </td><td>3.6519 </td><td>8      </td><td>307    </td><td>17.4   </td><td>378.95 </td><td>3.95   </td><td>48.3   </td></tr>\n",
       "\t<tr><th scope=row>254</th><td>0.36894</td><td>22     </td><td> 5.86  </td><td>0      </td><td>0.4310 </td><td>8.259  </td><td> 8.4   </td><td>8.9067 </td><td>7      </td><td>330    </td><td>19.1   </td><td>396.90 </td><td>3.54   </td><td>42.8   </td></tr>\n",
       "\t<tr><th scope=row>258</th><td>0.61154</td><td>20     </td><td> 3.97  </td><td>0      </td><td>0.6470 </td><td>8.704  </td><td>86.9   </td><td>1.8010 </td><td>5      </td><td>264    </td><td>13.0   </td><td>389.70 </td><td>5.12   </td><td>50.0   </td></tr>\n",
       "</tbody>\n",
       "</table>\n"
      ],
      "text/latex": [
       "\\begin{tabular}{r|llllllllllllll}\n",
       "  & crim & zn & indus & chas & nox & rm & age & dis & rad & tax & ptratio & black & lstat & medv\\\\\n",
       "\\hline\n",
       "\t98 & 0.12083 &  0      &  2.89   & 0       & 0.4450  & 8.069   & 76.0    & 3.4952  & 2       & 276     & 18.0    & 396.90  & 4.21    & 38.7   \\\\\n",
       "\t164 & 1.51902 &  0      & 19.58   & 1       & 0.6050  & 8.375   & 93.9    & 2.1620  & 5       & 403     & 14.7    & 388.45  & 3.32    & 50.0   \\\\\n",
       "\t205 & 0.02009 & 95      &  2.68   & 0       & 0.4161  & 8.034   & 31.9    & 5.1180  & 4       & 224     & 14.7    & 390.55  & 2.88    & 50.0   \\\\\n",
       "\t225 & 0.31533 &  0      &  6.20   & 0       & 0.5040  & 8.266   & 78.3    & 2.8944  & 8       & 307     & 17.4    & 385.05  & 4.14    & 44.8   \\\\\n",
       "\t226 & 0.52693 &  0      &  6.20   & 0       & 0.5040  & 8.725   & 83.0    & 2.8944  & 8       & 307     & 17.4    & 382.00  & 4.63    & 50.0   \\\\\n",
       "\t227 & 0.38214 &  0      &  6.20   & 0       & 0.5040  & 8.040   & 86.5    & 3.2157  & 8       & 307     & 17.4    & 387.38  & 3.13    & 37.6   \\\\\n",
       "\t233 & 0.57529 &  0      &  6.20   & 0       & 0.5070  & 8.337   & 73.3    & 3.8384  & 8       & 307     & 17.4    & 385.91  & 2.47    & 41.7   \\\\\n",
       "\t234 & 0.33147 &  0      &  6.20   & 0       & 0.5070  & 8.247   & 70.4    & 3.6519  & 8       & 307     & 17.4    & 378.95  & 3.95    & 48.3   \\\\\n",
       "\t254 & 0.36894 & 22      &  5.86   & 0       & 0.4310  & 8.259   &  8.4    & 8.9067  & 7       & 330     & 19.1    & 396.90  & 3.54    & 42.8   \\\\\n",
       "\t258 & 0.61154 & 20      &  3.97   & 0       & 0.6470  & 8.704   & 86.9    & 1.8010  & 5       & 264     & 13.0    & 389.70  & 5.12    & 50.0   \\\\\n",
       "\\end{tabular}\n"
      ],
      "text/markdown": [
       "\n",
       "| <!--/--> | crim | zn | indus | chas | nox | rm | age | dis | rad | tax | ptratio | black | lstat | medv |\n",
       "|---|---|---|---|---|---|---|---|---|---|---|---|---|---|---|\n",
       "| 98 | 0.12083 |  0      |  2.89   | 0       | 0.4450  | 8.069   | 76.0    | 3.4952  | 2       | 276     | 18.0    | 396.90  | 4.21    | 38.7    |\n",
       "| 164 | 1.51902 |  0      | 19.58   | 1       | 0.6050  | 8.375   | 93.9    | 2.1620  | 5       | 403     | 14.7    | 388.45  | 3.32    | 50.0    |\n",
       "| 205 | 0.02009 | 95      |  2.68   | 0       | 0.4161  | 8.034   | 31.9    | 5.1180  | 4       | 224     | 14.7    | 390.55  | 2.88    | 50.0    |\n",
       "| 225 | 0.31533 |  0      |  6.20   | 0       | 0.5040  | 8.266   | 78.3    | 2.8944  | 8       | 307     | 17.4    | 385.05  | 4.14    | 44.8    |\n",
       "| 226 | 0.52693 |  0      |  6.20   | 0       | 0.5040  | 8.725   | 83.0    | 2.8944  | 8       | 307     | 17.4    | 382.00  | 4.63    | 50.0    |\n",
       "| 227 | 0.38214 |  0      |  6.20   | 0       | 0.5040  | 8.040   | 86.5    | 3.2157  | 8       | 307     | 17.4    | 387.38  | 3.13    | 37.6    |\n",
       "| 233 | 0.57529 |  0      |  6.20   | 0       | 0.5070  | 8.337   | 73.3    | 3.8384  | 8       | 307     | 17.4    | 385.91  | 2.47    | 41.7    |\n",
       "| 234 | 0.33147 |  0      |  6.20   | 0       | 0.5070  | 8.247   | 70.4    | 3.6519  | 8       | 307     | 17.4    | 378.95  | 3.95    | 48.3    |\n",
       "| 254 | 0.36894 | 22      |  5.86   | 0       | 0.4310  | 8.259   |  8.4    | 8.9067  | 7       | 330     | 19.1    | 396.90  | 3.54    | 42.8    |\n",
       "| 258 | 0.61154 | 20      |  3.97   | 0       | 0.6470  | 8.704   | 86.9    | 1.8010  | 5       | 264     | 13.0    | 389.70  | 5.12    | 50.0    |\n",
       "\n"
      ],
      "text/plain": [
       "    crim    zn indus chas nox    rm    age  dis    rad tax ptratio black  lstat\n",
       "98  0.12083  0  2.89 0    0.4450 8.069 76.0 3.4952 2   276 18.0    396.90 4.21 \n",
       "164 1.51902  0 19.58 1    0.6050 8.375 93.9 2.1620 5   403 14.7    388.45 3.32 \n",
       "205 0.02009 95  2.68 0    0.4161 8.034 31.9 5.1180 4   224 14.7    390.55 2.88 \n",
       "225 0.31533  0  6.20 0    0.5040 8.266 78.3 2.8944 8   307 17.4    385.05 4.14 \n",
       "226 0.52693  0  6.20 0    0.5040 8.725 83.0 2.8944 8   307 17.4    382.00 4.63 \n",
       "227 0.38214  0  6.20 0    0.5040 8.040 86.5 3.2157 8   307 17.4    387.38 3.13 \n",
       "233 0.57529  0  6.20 0    0.5070 8.337 73.3 3.8384 8   307 17.4    385.91 2.47 \n",
       "234 0.33147  0  6.20 0    0.5070 8.247 70.4 3.6519 8   307 17.4    378.95 3.95 \n",
       "254 0.36894 22  5.86 0    0.4310 8.259  8.4 8.9067 7   330 19.1    396.90 3.54 \n",
       "258 0.61154 20  3.97 0    0.6470 8.704 86.9 1.8010 5   264 13.0    389.70 5.12 \n",
       "    medv\n",
       "98  38.7\n",
       "164 50.0\n",
       "205 50.0\n",
       "225 44.8\n",
       "226 50.0\n",
       "227 37.6\n",
       "233 41.7\n",
       "234 48.3\n",
       "254 42.8\n",
       "258 50.0"
      ]
     },
     "metadata": {},
     "output_type": "display_data"
    }
   ],
   "source": [
    "nrow(Boston[Boston$rm > 8,])\n",
    "head(Boston[Boston$rm > 8,], n = 10)"
   ]
  },
  {
   "cell_type": "markdown",
   "id": "broad-burton",
   "metadata": {},
   "source": [
    "### Exercise Question 3 Page 120"
   ]
  },
  {
   "cell_type": "markdown",
   "id": "white-skiing",
   "metadata": {},
   "source": [
    "Suppose we have a data set with five predictors, \n",
    "\n",
    "X1 = GPA, \n",
    "\n",
    "X2 = IQ, \n",
    "\n",
    "X3 = Gender (1 for Female and 0 for Male), \n",
    "\n",
    "X4 = Interaction between GPA and IQ, and \n",
    "\n",
    "X5 = Interaction between GPA and Gender. \n",
    "\n",
    "The response is starting salary after graduation (in thousands of dollars). Suppose we use least squares to fit the model, and get \n",
    "\n",
    "ˆβ0 = 50,ˆβ1 = 20,ˆβ2 = 0.07, ˆβ3 = 35,ˆβ4 = 0.01,ˆβ5 = −10."
   ]
  },
  {
   "cell_type": "markdown",
   "id": "whole-appraisal",
   "metadata": {},
   "source": [
    "Equation :\n",
    "\n",
    "y^ = ˆβ0 + (ˆβ1*X1) + (ˆβ2*X2) + (ˆβ3*X3) + ˆβ4*(X4) + ˆβ5*(X5)\n",
    "\n",
    "y^ = 50 + 20*(GPA) + 0.07*(IQ) + 35*(Gender) + 0.01*(GPA*IQ) − 10*(GPA*Gender)"
   ]
  },
  {
   "cell_type": "markdown",
   "id": "operating-disco",
   "metadata": {},
   "source": [
    "(a) Which answer is correct, and why?\n",
    "\n",
    "i. For a fixed value of IQ and GPA, males earn more on average than females.\n",
    "\n",
    "ii. For a fixed value of IQ and GPA, females earn more on average than males.\n",
    "\n",
    "iii. For a fixed value of IQ and GPA, males earn more on average than females provided that the GPA is high enough.\n",
    "\n",
    "iv. For a fixed value of IQ and GPA, females earn more on average than males provided that the GPA is high enough."
   ]
  },
  {
   "cell_type": "markdown",
   "id": "aquatic-virtue",
   "metadata": {},
   "source": [
    "For females, X3 = 1, X5 = X3 = GPA\n",
    "\n",
    "y^ = 50 + 20(GPA) + 0.07(IQ) + 35(1) + 0.01(GPA*IQ) − 10*(GPA)\n",
    "\n",
    "y^ = 85 + 0.07*(IQ) + 0.01(GPA*IQ) + 10*(GPA)\n",
    "\n",
    "For males, X3 = 0, X5 = 0\n",
    "\n",
    "y^ = 50 + 20*(GPA) + 0.07*(IQ) + 0.01*(GPA*IQ) "
   ]
  },
  {
   "cell_type": "markdown",
   "id": "hydraulic-windsor",
   "metadata": {},
   "source": [
    "For fixed value of IQ, GPA :\n",
    "\n",
    "For males : y^ = 50 + 20*(GPA) \n",
    "\n",
    "For females : y^ = 85 + 10*(GPA)\n",
    "\n",
    "Correct statement is (iii)  "
   ]
  },
  {
   "cell_type": "markdown",
   "id": "macro-kazakhstan",
   "metadata": {},
   "source": [
    "(b) Predict the salary of a female with IQ of 110 and a GPA of 4.0."
   ]
  },
  {
   "cell_type": "code",
   "execution_count": 11,
   "id": "prospective-fraud",
   "metadata": {},
   "outputs": [
    {
     "name": "stdout",
     "output_type": "stream",
     "text": [
      "[1] 137.1\n"
     ]
    }
   ],
   "source": [
    "IQ = 110\n",
    "GPA = 4.0\n",
    "PredictedSalary = 85 + 0.07*IQ + 0.01*GPA*IQ + 10*GPA\n",
    "\n",
    "print(PredictedSalary)"
   ]
  },
  {
   "cell_type": "markdown",
   "id": "legitimate-sodium",
   "metadata": {},
   "source": [
    "(c) True or false: Since the coefficient for the GPA/IQ interaction term is very small, there is very little evidence of an interaction effect. Justify your answer."
   ]
  },
  {
   "cell_type": "markdown",
   "id": "eastern-jones",
   "metadata": {},
   "source": [
    "False : The correlation depends on the p-value and not on the assumed co-efficients"
   ]
  },
  {
   "cell_type": "markdown",
   "id": "collectible-aside",
   "metadata": {},
   "source": [
    "### Exercise Question 10 Page 123"
   ]
  },
  {
   "cell_type": "markdown",
   "id": "posted-capital",
   "metadata": {},
   "source": [
    "This question should be answered using the Carseats data set.\n",
    "\n",
    "(a) Fit a multiple regression model to predict Sales using Price, Urban, and US."
   ]
  },
  {
   "cell_type": "code",
   "execution_count": 12,
   "id": "governmental-symbol",
   "metadata": {},
   "outputs": [
    {
     "name": "stderr",
     "output_type": "stream",
     "text": [
      "Warning message:\n",
      "\"package 'ISLR' was built under R version 3.6.3\""
     ]
    },
    {
     "data": {
      "text/html": [
       "<table>\n",
       "<thead><tr><th scope=col>Sales</th><th scope=col>CompPrice</th><th scope=col>Income</th><th scope=col>Advertising</th><th scope=col>Population</th><th scope=col>Price</th><th scope=col>ShelveLoc</th><th scope=col>Age</th><th scope=col>Education</th><th scope=col>Urban</th><th scope=col>US</th></tr></thead>\n",
       "<tbody>\n",
       "\t<tr><td> 9.50 </td><td>138   </td><td> 73   </td><td>11    </td><td>276   </td><td>120   </td><td>Bad   </td><td>42    </td><td>17    </td><td>Yes   </td><td>Yes   </td></tr>\n",
       "\t<tr><td>11.22 </td><td>111   </td><td> 48   </td><td>16    </td><td>260   </td><td> 83   </td><td>Good  </td><td>65    </td><td>10    </td><td>Yes   </td><td>Yes   </td></tr>\n",
       "\t<tr><td>10.06 </td><td>113   </td><td> 35   </td><td>10    </td><td>269   </td><td> 80   </td><td>Medium</td><td>59    </td><td>12    </td><td>Yes   </td><td>Yes   </td></tr>\n",
       "\t<tr><td> 7.40 </td><td>117   </td><td>100   </td><td> 4    </td><td>466   </td><td> 97   </td><td>Medium</td><td>55    </td><td>14    </td><td>Yes   </td><td>Yes   </td></tr>\n",
       "</tbody>\n",
       "</table>\n"
      ],
      "text/latex": [
       "\\begin{tabular}{r|lllllllllll}\n",
       " Sales & CompPrice & Income & Advertising & Population & Price & ShelveLoc & Age & Education & Urban & US\\\\\n",
       "\\hline\n",
       "\t  9.50  & 138    &  73    & 11     & 276    & 120    & Bad    & 42     & 17     & Yes    & Yes   \\\\\n",
       "\t 11.22  & 111    &  48    & 16     & 260    &  83    & Good   & 65     & 10     & Yes    & Yes   \\\\\n",
       "\t 10.06  & 113    &  35    & 10     & 269    &  80    & Medium & 59     & 12     & Yes    & Yes   \\\\\n",
       "\t  7.40  & 117    & 100    &  4     & 466    &  97    & Medium & 55     & 14     & Yes    & Yes   \\\\\n",
       "\\end{tabular}\n"
      ],
      "text/markdown": [
       "\n",
       "| Sales | CompPrice | Income | Advertising | Population | Price | ShelveLoc | Age | Education | Urban | US |\n",
       "|---|---|---|---|---|---|---|---|---|---|---|\n",
       "|  9.50  | 138    |  73    | 11     | 276    | 120    | Bad    | 42     | 17     | Yes    | Yes    |\n",
       "| 11.22  | 111    |  48    | 16     | 260    |  83    | Good   | 65     | 10     | Yes    | Yes    |\n",
       "| 10.06  | 113    |  35    | 10     | 269    |  80    | Medium | 59     | 12     | Yes    | Yes    |\n",
       "|  7.40  | 117    | 100    |  4     | 466    |  97    | Medium | 55     | 14     | Yes    | Yes    |\n",
       "\n"
      ],
      "text/plain": [
       "  Sales CompPrice Income Advertising Population Price ShelveLoc Age Education\n",
       "1  9.50 138        73    11          276        120   Bad       42  17       \n",
       "2 11.22 111        48    16          260         83   Good      65  10       \n",
       "3 10.06 113        35    10          269         80   Medium    59  12       \n",
       "4  7.40 117       100     4          466         97   Medium    55  14       \n",
       "  Urban US \n",
       "1 Yes   Yes\n",
       "2 Yes   Yes\n",
       "3 Yes   Yes\n",
       "4 Yes   Yes"
      ]
     },
     "metadata": {},
     "output_type": "display_data"
    }
   ],
   "source": [
    "library(\"ISLR\")\n",
    "#?Carseats\n",
    "head(Carseats, n = 4)"
   ]
  },
  {
   "cell_type": "code",
   "execution_count": 13,
   "id": "demographic-shade",
   "metadata": {},
   "outputs": [
    {
     "data": {
      "text/plain": [
       "\n",
       "Call:\n",
       "lm(formula = Sales ~ Price + Urban + US, data = Carseats)\n",
       "\n",
       "Residuals:\n",
       "    Min      1Q  Median      3Q     Max \n",
       "-6.9206 -1.6220 -0.0564  1.5786  7.0581 \n",
       "\n",
       "Coefficients:\n",
       "             Estimate Std. Error t value Pr(>|t|)    \n",
       "(Intercept) 13.043469   0.651012  20.036  < 2e-16 ***\n",
       "Price       -0.054459   0.005242 -10.389  < 2e-16 ***\n",
       "UrbanYes    -0.021916   0.271650  -0.081    0.936    \n",
       "USYes        1.200573   0.259042   4.635 4.86e-06 ***\n",
       "---\n",
       "Signif. codes:  0 '***' 0.001 '**' 0.01 '*' 0.05 '.' 0.1 ' ' 1\n",
       "\n",
       "Residual standard error: 2.472 on 396 degrees of freedom\n",
       "Multiple R-squared:  0.2393,\tAdjusted R-squared:  0.2335 \n",
       "F-statistic: 41.52 on 3 and 396 DF,  p-value: < 2.2e-16\n"
      ]
     },
     "metadata": {},
     "output_type": "display_data"
    }
   ],
   "source": [
    "model_a = lm(Sales ~ Price + Urban + US, data= Carseats)\n",
    "summary(model_a)"
   ]
  },
  {
   "cell_type": "markdown",
   "id": "rental-guinea",
   "metadata": {},
   "source": [
    "(b) Provide an interpretation of each coefficient in the model. Be careful — some of the variables in the model are qualitative!"
   ]
  },
  {
   "cell_type": "markdown",
   "id": "retired-berry",
   "metadata": {},
   "source": [
    "There is no correlation between the sale of carseats and the presence in an urban area.\n",
    "\n",
    "When price increases, sale of carseats decreases. (negative correlation -0.054459)\n",
    "\n",
    "Stores in the US sell more carseats. (positive correlation - 1.200573)"
   ]
  },
  {
   "cell_type": "markdown",
   "id": "substantial-novel",
   "metadata": {},
   "source": [
    "(c) Write out the model in equation form, being careful to handle the qualitative variables properly."
   ]
  },
  {
   "cell_type": "markdown",
   "id": "integral-rubber",
   "metadata": {},
   "source": [
    "Sales = (13.0434689367649) - (0.054459*Price) - (0.021916*UrbanYes) + (1.200573*USYes)"
   ]
  },
  {
   "cell_type": "markdown",
   "id": "declared-spelling",
   "metadata": {},
   "source": [
    "(d) For which of the predictors can you reject the null hypothesis H0 : βj = 0?\n",
    "\n",
    "For the predictors : Price, USYes"
   ]
  },
  {
   "cell_type": "markdown",
   "id": "experimental-delhi",
   "metadata": {},
   "source": [
    "(e) On the basis of your response to the previous question, fit a smaller model that only uses the predictors for which there is evidence of association with the outcome."
   ]
  },
  {
   "cell_type": "code",
   "execution_count": 14,
   "id": "finnish-mechanics",
   "metadata": {},
   "outputs": [
    {
     "data": {
      "text/plain": [
       "\n",
       "Call:\n",
       "lm(formula = Sales ~ Price + US, data = Carseats)\n",
       "\n",
       "Residuals:\n",
       "    Min      1Q  Median      3Q     Max \n",
       "-6.9269 -1.6286 -0.0574  1.5766  7.0515 \n",
       "\n",
       "Coefficients:\n",
       "            Estimate Std. Error t value Pr(>|t|)    \n",
       "(Intercept) 13.03079    0.63098  20.652  < 2e-16 ***\n",
       "Price       -0.05448    0.00523 -10.416  < 2e-16 ***\n",
       "USYes        1.19964    0.25846   4.641 4.71e-06 ***\n",
       "---\n",
       "Signif. codes:  0 '***' 0.001 '**' 0.01 '*' 0.05 '.' 0.1 ' ' 1\n",
       "\n",
       "Residual standard error: 2.469 on 397 degrees of freedom\n",
       "Multiple R-squared:  0.2393,\tAdjusted R-squared:  0.2354 \n",
       "F-statistic: 62.43 on 2 and 397 DF,  p-value: < 2.2e-16\n"
      ]
     },
     "metadata": {},
     "output_type": "display_data"
    }
   ],
   "source": [
    "model_e = lm(Sales ~ Price + US, data= Carseats)\n",
    "summary(model_e)"
   ]
  },
  {
   "cell_type": "markdown",
   "id": "olympic-present",
   "metadata": {},
   "source": [
    "(f) How well do the models in (a) and (e) fit the data?"
   ]
  },
  {
   "cell_type": "markdown",
   "id": "little-webmaster",
   "metadata": {},
   "source": [
    "For model_a :\n",
    "R^2 : 0.2335 \n",
    "\n",
    "For model_e :\n",
    "R^2 : 0.2354 \n",
    "\n",
    "model_e is slightly better."
   ]
  },
  {
   "cell_type": "markdown",
   "id": "round-player",
   "metadata": {},
   "source": [
    "(g) Using the model from (e), obtain 95 % confidence intervals for the coefficient(s)."
   ]
  },
  {
   "cell_type": "code",
   "execution_count": 15,
   "id": "involved-context",
   "metadata": {},
   "outputs": [
    {
     "data": {
      "text/html": [
       "<table>\n",
       "<thead><tr><th></th><th scope=col>2.5 %</th><th scope=col>97.5 %</th></tr></thead>\n",
       "<tbody>\n",
       "\t<tr><th scope=row>(Intercept)</th><td>11.79032020</td><td>14.27126531</td></tr>\n",
       "\t<tr><th scope=row>Price</th><td>-0.06475984</td><td>-0.04419543</td></tr>\n",
       "\t<tr><th scope=row>USYes</th><td> 0.69151957</td><td> 1.70776632</td></tr>\n",
       "</tbody>\n",
       "</table>\n"
      ],
      "text/latex": [
       "\\begin{tabular}{r|ll}\n",
       "  & 2.5 \\% & 97.5 \\%\\\\\n",
       "\\hline\n",
       "\t(Intercept) & 11.79032020 & 14.27126531\\\\\n",
       "\tPrice & -0.06475984 & -0.04419543\\\\\n",
       "\tUSYes &  0.69151957 &  1.70776632\\\\\n",
       "\\end{tabular}\n"
      ],
      "text/markdown": [
       "\n",
       "| <!--/--> | 2.5 % | 97.5 % |\n",
       "|---|---|---|\n",
       "| (Intercept) | 11.79032020 | 14.27126531 |\n",
       "| Price | -0.06475984 | -0.04419543 |\n",
       "| USYes |  0.69151957 |  1.70776632 |\n",
       "\n"
      ],
      "text/plain": [
       "            2.5 %       97.5 %     \n",
       "(Intercept) 11.79032020 14.27126531\n",
       "Price       -0.06475984 -0.04419543\n",
       "USYes        0.69151957  1.70776632"
      ]
     },
     "metadata": {},
     "output_type": "display_data"
    }
   ],
   "source": [
    "confint(model_e)"
   ]
  },
  {
   "cell_type": "markdown",
   "id": "fifty-trash",
   "metadata": {},
   "source": [
    "(h) Is there evidence of outliers or high leverage observations in the model from (e)?"
   ]
  },
  {
   "cell_type": "code",
   "execution_count": 17,
   "id": "directed-color",
   "metadata": {},
   "outputs": [
    {
     "data": {
      "image/png": "[encoded data removed]",
      "text/plain": [
       "Plot with title \"\""
      ]
     },
     "metadata": {},
     "output_type": "display_data"
    },
    {
     "data": {
      "image/png": "[encoded data removed]",
      "text/plain": [
       "Plot with title \"\""
      ]
     },
     "metadata": {},
     "output_type": "display_data"
    },
    {
     "data": {
      "image/png": "[encoded data removed]",
      "text/plain": [
       "Plot with title \"\""
      ]
     },
     "metadata": {},
     "output_type": "display_data"
    },
    {
     "data": {
      "image/png": "[encoded data removed]",
      "text/plain": [
       "Plot with title \"\""
      ]
     },
     "metadata": {},
     "output_type": "display_data"
    }
   ],
   "source": [
    "plot(model_e)"
   ]
  },
  {
   "cell_type": "markdown",
   "id": "comparative-edinburgh",
   "metadata": {},
   "source": [
    "### Exercise Question 15 page 126"
   ]
  },
  {
   "cell_type": "markdown",
   "id": "soviet-inside",
   "metadata": {},
   "source": [
    "This problem involves the Boston data set, which we saw in the lab for this chapter. We will now try to predict per capita crime rate using the other variables in this data set. In other words, per capita crime rate is the response, and the other variables are the predictors.\n",
    "\n",
    "(a) For each predictor, fit a simple linear regression model to predict the response. Describe your results. In which of the models is there a statistically significant association between the predictor and the response? Create some plots to back up your assertions."
   ]
  },
  {
   "cell_type": "code",
   "execution_count": 18,
   "id": "expensive-agreement",
   "metadata": {},
   "outputs": [
    {
     "data": {
      "text/html": [
       "<table>\n",
       "<thead><tr><th scope=col>crim</th><th scope=col>zn</th><th scope=col>indus</th><th scope=col>chas</th><th scope=col>nox</th><th scope=col>rm</th><th scope=col>age</th><th scope=col>dis</th><th scope=col>rad</th><th scope=col>tax</th><th scope=col>ptratio</th><th scope=col>black</th><th scope=col>lstat</th><th scope=col>medv</th></tr></thead>\n",
       "<tbody>\n",
       "\t<tr><td>0.00632</td><td>18     </td><td>2.31   </td><td>0      </td><td>0.538  </td><td>6.575  </td><td>65.2   </td><td>4.0900 </td><td>1      </td><td>296    </td><td>15.3   </td><td>396.90 </td><td>4.98   </td><td>24.0   </td></tr>\n",
       "\t<tr><td>0.02731</td><td> 0     </td><td>7.07   </td><td>0      </td><td>0.469  </td><td>6.421  </td><td>78.9   </td><td>4.9671 </td><td>2      </td><td>242    </td><td>17.8   </td><td>396.90 </td><td>9.14   </td><td>21.6   </td></tr>\n",
       "\t<tr><td>0.02729</td><td> 0     </td><td>7.07   </td><td>0      </td><td>0.469  </td><td>7.185  </td><td>61.1   </td><td>4.9671 </td><td>2      </td><td>242    </td><td>17.8   </td><td>392.83 </td><td>4.03   </td><td>34.7   </td></tr>\n",
       "\t<tr><td>0.03237</td><td> 0     </td><td>2.18   </td><td>0      </td><td>0.458  </td><td>6.998  </td><td>45.8   </td><td>6.0622 </td><td>3      </td><td>222    </td><td>18.7   </td><td>394.63 </td><td>2.94   </td><td>33.4   </td></tr>\n",
       "</tbody>\n",
       "</table>\n"
      ],
      "text/latex": [
       "\\begin{tabular}{r|llllllllllllll}\n",
       " crim & zn & indus & chas & nox & rm & age & dis & rad & tax & ptratio & black & lstat & medv\\\\\n",
       "\\hline\n",
       "\t 0.00632 & 18      & 2.31    & 0       & 0.538   & 6.575   & 65.2    & 4.0900  & 1       & 296     & 15.3    & 396.90  & 4.98    & 24.0   \\\\\n",
       "\t 0.02731 &  0      & 7.07    & 0       & 0.469   & 6.421   & 78.9    & 4.9671  & 2       & 242     & 17.8    & 396.90  & 9.14    & 21.6   \\\\\n",
       "\t 0.02729 &  0      & 7.07    & 0       & 0.469   & 7.185   & 61.1    & 4.9671  & 2       & 242     & 17.8    & 392.83  & 4.03    & 34.7   \\\\\n",
       "\t 0.03237 &  0      & 2.18    & 0       & 0.458   & 6.998   & 45.8    & 6.0622  & 3       & 222     & 18.7    & 394.63  & 2.94    & 33.4   \\\\\n",
       "\\end{tabular}\n"
      ],
      "text/markdown": [
       "\n",
       "| crim | zn | indus | chas | nox | rm | age | dis | rad | tax | ptratio | black | lstat | medv |\n",
       "|---|---|---|---|---|---|---|---|---|---|---|---|---|---|\n",
       "| 0.00632 | 18      | 2.31    | 0       | 0.538   | 6.575   | 65.2    | 4.0900  | 1       | 296     | 15.3    | 396.90  | 4.98    | 24.0    |\n",
       "| 0.02731 |  0      | 7.07    | 0       | 0.469   | 6.421   | 78.9    | 4.9671  | 2       | 242     | 17.8    | 396.90  | 9.14    | 21.6    |\n",
       "| 0.02729 |  0      | 7.07    | 0       | 0.469   | 7.185   | 61.1    | 4.9671  | 2       | 242     | 17.8    | 392.83  | 4.03    | 34.7    |\n",
       "| 0.03237 |  0      | 2.18    | 0       | 0.458   | 6.998   | 45.8    | 6.0622  | 3       | 222     | 18.7    | 394.63  | 2.94    | 33.4    |\n",
       "\n"
      ],
      "text/plain": [
       "  crim    zn indus chas nox   rm    age  dis    rad tax ptratio black  lstat\n",
       "1 0.00632 18 2.31  0    0.538 6.575 65.2 4.0900 1   296 15.3    396.90 4.98 \n",
       "2 0.02731  0 7.07  0    0.469 6.421 78.9 4.9671 2   242 17.8    396.90 9.14 \n",
       "3 0.02729  0 7.07  0    0.469 7.185 61.1 4.9671 2   242 17.8    392.83 4.03 \n",
       "4 0.03237  0 2.18  0    0.458 6.998 45.8 6.0622 3   222 18.7    394.63 2.94 \n",
       "  medv\n",
       "1 24.0\n",
       "2 21.6\n",
       "3 34.7\n",
       "4 33.4"
      ]
     },
     "metadata": {},
     "output_type": "display_data"
    }
   ],
   "source": [
    "head(Boston, n = 4)"
   ]
  },
  {
   "cell_type": "code",
   "execution_count": 19,
   "id": "behind-better",
   "metadata": {},
   "outputs": [
    {
     "data": {
      "text/html": [
       "<ol class=list-inline>\n",
       "\t<li>'crim'</li>\n",
       "\t<li>'zn'</li>\n",
       "\t<li>'indus'</li>\n",
       "\t<li>'chas'</li>\n",
       "\t<li>'nox'</li>\n",
       "\t<li>'rm'</li>\n",
       "\t<li>'age'</li>\n",
       "\t<li>'dis'</li>\n",
       "\t<li>'rad'</li>\n",
       "\t<li>'tax'</li>\n",
       "\t<li>'ptratio'</li>\n",
       "\t<li>'black'</li>\n",
       "\t<li>'lstat'</li>\n",
       "\t<li>'medv'</li>\n",
       "</ol>\n"
      ],
      "text/latex": [
       "\\begin{enumerate*}\n",
       "\\item 'crim'\n",
       "\\item 'zn'\n",
       "\\item 'indus'\n",
       "\\item 'chas'\n",
       "\\item 'nox'\n",
       "\\item 'rm'\n",
       "\\item 'age'\n",
       "\\item 'dis'\n",
       "\\item 'rad'\n",
       "\\item 'tax'\n",
       "\\item 'ptratio'\n",
       "\\item 'black'\n",
       "\\item 'lstat'\n",
       "\\item 'medv'\n",
       "\\end{enumerate*}\n"
      ],
      "text/markdown": [
       "1. 'crim'\n",
       "2. 'zn'\n",
       "3. 'indus'\n",
       "4. 'chas'\n",
       "5. 'nox'\n",
       "6. 'rm'\n",
       "7. 'age'\n",
       "8. 'dis'\n",
       "9. 'rad'\n",
       "10. 'tax'\n",
       "11. 'ptratio'\n",
       "12. 'black'\n",
       "13. 'lstat'\n",
       "14. 'medv'\n",
       "\n",
       "\n"
      ],
      "text/plain": [
       " [1] \"crim\"    \"zn\"      \"indus\"   \"chas\"    \"nox\"     \"rm\"      \"age\"    \n",
       " [8] \"dis\"     \"rad\"     \"tax\"     \"ptratio\" \"black\"   \"lstat\"   \"medv\"   "
      ]
     },
     "metadata": {},
     "output_type": "display_data"
    }
   ],
   "source": [
    "colnames(Boston)"
   ]
  },
  {
   "cell_type": "code",
   "execution_count": 35,
   "id": "naked-validation",
   "metadata": {},
   "outputs": [
    {
     "name": "stdout",
     "output_type": "stream",
     "text": [
      "[1] \"crim\"\n"
     ]
    },
    {
     "name": "stderr",
     "output_type": "stream",
     "text": [
      "Warning message in summary.lm(variable_fit):\n",
      "\"essentially perfect fit: summary may be unreliable\""
     ]
    },
    {
     "name": "stdout",
     "output_type": "stream",
     "text": [
      "\n",
      "Call:\n",
      "lm(formula = Boston$crim ~ Boston[, i])\n",
      "\n",
      "Residuals:\n",
      "       Min         1Q     Median         3Q        Max \n",
      "-1.859e-14 -2.340e-16  1.830e-16  1.949e-16  6.710e-15 \n",
      "\n",
      "Coefficients:\n",
      "             Estimate Std. Error   t value Pr(>|t|)    \n",
      "(Intercept) 0.000e+00  5.258e-17 0.000e+00        1    \n",
      "Boston[, i] 1.000e+00  5.641e-18 1.773e+17   <2e-16 ***\n",
      "---\n",
      "Signif. codes:  0 '***' 0.001 '**' 0.01 '*' 0.05 '.' 0.1 ' ' 1\n",
      "\n",
      "Residual standard error: 1.09e-15 on 504 degrees of freedom\n",
      "Multiple R-squared:      1,\tAdjusted R-squared:      1 \n",
      "F-statistic: 3.143e+34 on 1 and 504 DF,  p-value: < 2.2e-16\n",
      "\n",
      "[1] \"zn\"\n",
      "\n",
      "Call:\n",
      "lm(formula = Boston$crim ~ Boston[, i])\n",
      "\n",
      "Residuals:\n",
      "   Min     1Q Median     3Q    Max \n",
      "-4.429 -4.222 -2.620  1.250 84.523 \n",
      "\n",
      "Coefficients:\n",
      "            Estimate Std. Error t value Pr(>|t|)    \n",
      "(Intercept)  4.45369    0.41722  10.675  < 2e-16 ***\n",
      "Boston[, i] -0.07393    0.01609  -4.594 5.51e-06 ***\n",
      "---\n",
      "Signif. codes:  0 '***' 0.001 '**' 0.01 '*' 0.05 '.' 0.1 ' ' 1\n",
      "\n",
      "Residual standard error: 8.435 on 504 degrees of freedom\n",
      "Multiple R-squared:  0.04019,\tAdjusted R-squared:  0.03828 \n",
      "F-statistic:  21.1 on 1 and 504 DF,  p-value: 5.506e-06\n",
      "\n",
      "[1] \"indus\"\n",
      "\n",
      "Call:\n",
      "lm(formula = Boston$crim ~ Boston[, i])\n",
      "\n",
      "Residuals:\n",
      "    Min      1Q  Median      3Q     Max \n",
      "-11.972  -2.698  -0.736   0.712  81.813 \n",
      "\n",
      "Coefficients:\n",
      "            Estimate Std. Error t value Pr(>|t|)    \n",
      "(Intercept) -2.06374    0.66723  -3.093  0.00209 ** \n",
      "Boston[, i]  0.50978    0.05102   9.991  < 2e-16 ***\n",
      "---\n",
      "Signif. codes:  0 '***' 0.001 '**' 0.01 '*' 0.05 '.' 0.1 ' ' 1\n",
      "\n",
      "Residual standard error: 7.866 on 504 degrees of freedom\n",
      "Multiple R-squared:  0.1653,\tAdjusted R-squared:  0.1637 \n",
      "F-statistic: 99.82 on 1 and 504 DF,  p-value: < 2.2e-16\n",
      "\n",
      "[1] \"chas\"\n",
      "\n",
      "Call:\n",
      "lm(formula = Boston$crim ~ Boston[, i])\n",
      "\n",
      "Residuals:\n",
      "   Min     1Q Median     3Q    Max \n",
      "-3.738 -3.661 -3.435  0.018 85.232 \n",
      "\n",
      "Coefficients:\n",
      "            Estimate Std. Error t value Pr(>|t|)    \n",
      "(Intercept)   3.7444     0.3961   9.453   <2e-16 ***\n",
      "Boston[, i]  -1.8928     1.5061  -1.257    0.209    \n",
      "---\n",
      "Signif. codes:  0 '***' 0.001 '**' 0.01 '*' 0.05 '.' 0.1 ' ' 1\n",
      "\n",
      "Residual standard error: 8.597 on 504 degrees of freedom\n",
      "Multiple R-squared:  0.003124,\tAdjusted R-squared:  0.001146 \n",
      "F-statistic: 1.579 on 1 and 504 DF,  p-value: 0.2094\n",
      "\n",
      "[1] \"nox\"\n",
      "\n",
      "Call:\n",
      "lm(formula = Boston$crim ~ Boston[, i])\n",
      "\n",
      "Residuals:\n",
      "    Min      1Q  Median      3Q     Max \n",
      "-12.371  -2.738  -0.974   0.559  81.728 \n",
      "\n",
      "Coefficients:\n",
      "            Estimate Std. Error t value Pr(>|t|)    \n",
      "(Intercept)  -13.720      1.699  -8.073 5.08e-15 ***\n",
      "Boston[, i]   31.249      2.999  10.419  < 2e-16 ***\n",
      "---\n",
      "Signif. codes:  0 '***' 0.001 '**' 0.01 '*' 0.05 '.' 0.1 ' ' 1\n",
      "\n",
      "Residual standard error: 7.81 on 504 degrees of freedom\n",
      "Multiple R-squared:  0.1772,\tAdjusted R-squared:  0.1756 \n",
      "F-statistic: 108.6 on 1 and 504 DF,  p-value: < 2.2e-16\n",
      "\n",
      "[1] \"rm\"\n",
      "\n",
      "Call:\n",
      "lm(formula = Boston$crim ~ Boston[, i])\n",
      "\n",
      "Residuals:\n",
      "   Min     1Q Median     3Q    Max \n",
      "-6.604 -3.952 -2.654  0.989 87.197 \n",
      "\n",
      "Coefficients:\n",
      "            Estimate Std. Error t value Pr(>|t|)    \n",
      "(Intercept)   20.482      3.365   6.088 2.27e-09 ***\n",
      "Boston[, i]   -2.684      0.532  -5.045 6.35e-07 ***\n",
      "---\n",
      "Signif. codes:  0 '***' 0.001 '**' 0.01 '*' 0.05 '.' 0.1 ' ' 1\n",
      "\n",
      "Residual standard error: 8.401 on 504 degrees of freedom\n",
      "Multiple R-squared:  0.04807,\tAdjusted R-squared:  0.04618 \n",
      "F-statistic: 25.45 on 1 and 504 DF,  p-value: 6.347e-07\n",
      "\n",
      "[1] \"age\"\n",
      "\n",
      "Call:\n",
      "lm(formula = Boston$crim ~ Boston[, i])\n",
      "\n",
      "Residuals:\n",
      "   Min     1Q Median     3Q    Max \n",
      "-6.789 -4.257 -1.230  1.527 82.849 \n",
      "\n",
      "Coefficients:\n",
      "            Estimate Std. Error t value Pr(>|t|)    \n",
      "(Intercept) -3.77791    0.94398  -4.002 7.22e-05 ***\n",
      "Boston[, i]  0.10779    0.01274   8.463 2.85e-16 ***\n",
      "---\n",
      "Signif. codes:  0 '***' 0.001 '**' 0.01 '*' 0.05 '.' 0.1 ' ' 1\n",
      "\n",
      "Residual standard error: 8.057 on 504 degrees of freedom\n",
      "Multiple R-squared:  0.1244,\tAdjusted R-squared:  0.1227 \n",
      "F-statistic: 71.62 on 1 and 504 DF,  p-value: 2.855e-16\n",
      "\n",
      "[1] \"dis\"\n",
      "\n",
      "Call:\n",
      "lm(formula = Boston$crim ~ Boston[, i])\n",
      "\n",
      "Residuals:\n",
      "   Min     1Q Median     3Q    Max \n",
      "-6.708 -4.134 -1.527  1.516 81.674 \n",
      "\n",
      "Coefficients:\n",
      "            Estimate Std. Error t value Pr(>|t|)    \n",
      "(Intercept)   9.4993     0.7304  13.006   <2e-16 ***\n",
      "Boston[, i]  -1.5509     0.1683  -9.213   <2e-16 ***\n",
      "---\n",
      "Signif. codes:  0 '***' 0.001 '**' 0.01 '*' 0.05 '.' 0.1 ' ' 1\n",
      "\n",
      "Residual standard error: 7.965 on 504 degrees of freedom\n",
      "Multiple R-squared:  0.1441,\tAdjusted R-squared:  0.1425 \n",
      "F-statistic: 84.89 on 1 and 504 DF,  p-value: < 2.2e-16\n",
      "\n",
      "[1] \"rad\"\n",
      "\n",
      "Call:\n",
      "lm(formula = Boston$crim ~ Boston[, i])\n",
      "\n",
      "Residuals:\n",
      "    Min      1Q  Median      3Q     Max \n",
      "-10.164  -1.381  -0.141   0.660  76.433 \n",
      "\n",
      "Coefficients:\n",
      "            Estimate Std. Error t value Pr(>|t|)    \n",
      "(Intercept) -2.28716    0.44348  -5.157 3.61e-07 ***\n",
      "Boston[, i]  0.61791    0.03433  17.998  < 2e-16 ***\n",
      "---\n",
      "Signif. codes:  0 '***' 0.001 '**' 0.01 '*' 0.05 '.' 0.1 ' ' 1\n",
      "\n",
      "Residual standard error: 6.718 on 504 degrees of freedom\n",
      "Multiple R-squared:  0.3913,\tAdjusted R-squared:   0.39 \n",
      "F-statistic: 323.9 on 1 and 504 DF,  p-value: < 2.2e-16\n",
      "\n",
      "[1] \"tax\"\n",
      "\n",
      "Call:\n",
      "lm(formula = Boston$crim ~ Boston[, i])\n",
      "\n",
      "Residuals:\n",
      "    Min      1Q  Median      3Q     Max \n",
      "-12.513  -2.738  -0.194   1.065  77.696 \n",
      "\n",
      "Coefficients:\n",
      "             Estimate Std. Error t value Pr(>|t|)    \n",
      "(Intercept) -8.528369   0.815809  -10.45   <2e-16 ***\n",
      "Boston[, i]  0.029742   0.001847   16.10   <2e-16 ***\n",
      "---\n",
      "Signif. codes:  0 '***' 0.001 '**' 0.01 '*' 0.05 '.' 0.1 ' ' 1\n",
      "\n",
      "Residual standard error: 6.997 on 504 degrees of freedom\n",
      "Multiple R-squared:  0.3396,\tAdjusted R-squared:  0.3383 \n",
      "F-statistic: 259.2 on 1 and 504 DF,  p-value: < 2.2e-16\n",
      "\n",
      "[1] \"ptratio\"\n",
      "\n",
      "Call:\n",
      "lm(formula = Boston$crim ~ Boston[, i])\n",
      "\n",
      "Residuals:\n",
      "   Min     1Q Median     3Q    Max \n",
      "-7.654 -3.985 -1.912  1.825 83.353 \n",
      "\n",
      "Coefficients:\n",
      "            Estimate Std. Error t value Pr(>|t|)    \n",
      "(Intercept) -17.6469     3.1473  -5.607 3.40e-08 ***\n",
      "Boston[, i]   1.1520     0.1694   6.801 2.94e-11 ***\n",
      "---\n",
      "Signif. codes:  0 '***' 0.001 '**' 0.01 '*' 0.05 '.' 0.1 ' ' 1\n",
      "\n",
      "Residual standard error: 8.24 on 504 degrees of freedom\n",
      "Multiple R-squared:  0.08407,\tAdjusted R-squared:  0.08225 \n",
      "F-statistic: 46.26 on 1 and 504 DF,  p-value: 2.943e-11\n",
      "\n",
      "[1] \"black\"\n",
      "\n",
      "Call:\n",
      "lm(formula = Boston$crim ~ Boston[, i])\n",
      "\n",
      "Residuals:\n",
      "    Min      1Q  Median      3Q     Max \n",
      "-13.756  -2.299  -2.095  -1.296  86.822 \n",
      "\n",
      "Coefficients:\n",
      "             Estimate Std. Error t value Pr(>|t|)    \n",
      "(Intercept) 16.553529   1.425903  11.609   <2e-16 ***\n",
      "Boston[, i] -0.036280   0.003873  -9.367   <2e-16 ***\n",
      "---\n",
      "Signif. codes:  0 '***' 0.001 '**' 0.01 '*' 0.05 '.' 0.1 ' ' 1\n",
      "\n",
      "Residual standard error: 7.946 on 504 degrees of freedom\n",
      "Multiple R-squared:  0.1483,\tAdjusted R-squared:  0.1466 \n",
      "F-statistic: 87.74 on 1 and 504 DF,  p-value: < 2.2e-16\n",
      "\n",
      "[1] \"lstat\"\n",
      "\n",
      "Call:\n",
      "lm(formula = Boston$crim ~ Boston[, i])\n",
      "\n",
      "Residuals:\n",
      "    Min      1Q  Median      3Q     Max \n",
      "-13.925  -2.822  -0.664   1.079  82.862 \n",
      "\n",
      "Coefficients:\n",
      "            Estimate Std. Error t value Pr(>|t|)    \n",
      "(Intercept) -3.33054    0.69376  -4.801 2.09e-06 ***\n",
      "Boston[, i]  0.54880    0.04776  11.491  < 2e-16 ***\n",
      "---\n",
      "Signif. codes:  0 '***' 0.001 '**' 0.01 '*' 0.05 '.' 0.1 ' ' 1\n",
      "\n",
      "Residual standard error: 7.664 on 504 degrees of freedom\n",
      "Multiple R-squared:  0.2076,\tAdjusted R-squared:  0.206 \n",
      "F-statistic:   132 on 1 and 504 DF,  p-value: < 2.2e-16\n",
      "\n",
      "[1] \"medv\"\n",
      "\n",
      "Call:\n",
      "lm(formula = Boston$crim ~ Boston[, i])\n",
      "\n",
      "Residuals:\n",
      "   Min     1Q Median     3Q    Max \n",
      "-9.071 -4.022 -2.343  1.298 80.957 \n",
      "\n",
      "Coefficients:\n",
      "            Estimate Std. Error t value Pr(>|t|)    \n",
      "(Intercept) 11.79654    0.93419   12.63   <2e-16 ***\n",
      "Boston[, i] -0.36316    0.03839   -9.46   <2e-16 ***\n",
      "---\n",
      "Signif. codes:  0 '***' 0.001 '**' 0.01 '*' 0.05 '.' 0.1 ' ' 1\n",
      "\n",
      "Residual standard error: 7.934 on 504 degrees of freedom\n",
      "Multiple R-squared:  0.1508,\tAdjusted R-squared:  0.1491 \n",
      "F-statistic: 89.49 on 1 and 504 DF,  p-value: < 2.2e-16\n",
      "\n"
     ]
    }
   ],
   "source": [
    "for(i in colnames(Boston)){\n",
    "    variable_fit = lm(Boston$crim ~ Boston[,i])\n",
    "    print(i)\n",
    "    print(summary(variable_fit))\n",
    "    #print(i)\n",
    "}\n"
   ]
  },
  {
   "cell_type": "markdown",
   "id": "broad-emperor",
   "metadata": {},
   "source": [
    "(b) Fit a multiple regression model to predict the response using all of the predictors. Describe your results. For which predictors can we reject the null hypothesis H0 : βj = 0?"
   ]
  },
  {
   "cell_type": "code",
   "execution_count": 64,
   "id": "sought-headline",
   "metadata": {},
   "outputs": [
    {
     "data": {
      "text/plain": [
       "\n",
       "Call:\n",
       "lm(formula = crim ~ ., data = Boston)\n",
       "\n",
       "Residuals:\n",
       "   Min     1Q Median     3Q    Max \n",
       "-9.924 -2.120 -0.353  1.019 75.051 \n",
       "\n",
       "Coefficients:\n",
       "              Estimate Std. Error t value Pr(>|t|)    \n",
       "(Intercept)  17.033228   7.234903   2.354 0.018949 *  \n",
       "zn            0.044855   0.018734   2.394 0.017025 *  \n",
       "indus        -0.063855   0.083407  -0.766 0.444294    \n",
       "chas         -0.749134   1.180147  -0.635 0.525867    \n",
       "nox         -10.313535   5.275536  -1.955 0.051152 .  \n",
       "rm            0.430131   0.612830   0.702 0.483089    \n",
       "age           0.001452   0.017925   0.081 0.935488    \n",
       "dis          -0.987176   0.281817  -3.503 0.000502 ***\n",
       "rad           0.588209   0.088049   6.680 6.46e-11 ***\n",
       "tax          -0.003780   0.005156  -0.733 0.463793    \n",
       "ptratio      -0.271081   0.186450  -1.454 0.146611    \n",
       "black        -0.007538   0.003673  -2.052 0.040702 *  \n",
       "lstat         0.126211   0.075725   1.667 0.096208 .  \n",
       "medv         -0.198887   0.060516  -3.287 0.001087 ** \n",
       "---\n",
       "Signif. codes:  0 '***' 0.001 '**' 0.01 '*' 0.05 '.' 0.1 ' ' 1\n",
       "\n",
       "Residual standard error: 6.439 on 492 degrees of freedom\n",
       "Multiple R-squared:  0.454,\tAdjusted R-squared:  0.4396 \n",
       "F-statistic: 31.47 on 13 and 492 DF,  p-value: < 2.2e-16\n"
      ]
     },
     "metadata": {},
     "output_type": "display_data"
    }
   ],
   "source": [
    "model <- lm(crim ~ ., data = Boston)\n",
    "summary(model)"
   ]
  },
  {
   "cell_type": "markdown",
   "id": "necessary-antique",
   "metadata": {},
   "source": [
    "We can reject null hypothesis for the variables : 'zn', 'dis', 'rad', 'black', 'medv'"
   ]
  },
  {
   "cell_type": "markdown",
   "id": "verified-insight",
   "metadata": {},
   "source": [
    "(c) How do your results from (a) compare to your results from (b)? Create a plot displaying the univariate regression coefficients from (a) on the x-axis, and the multiple regression coefficients from (b) on the y-axis. That is, each predictor is displayed as a single point in the plot. Its coefficient in a simple linear regression model is shown on the x-axis, and its coefficient estimate in the multiple linear regression model is shown on the y-axis."
   ]
  },
  {
   "cell_type": "code",
   "execution_count": 78,
   "id": "trying-comparative",
   "metadata": {},
   "outputs": [
    {
     "data": {
      "text/html": [
       "<dl class=dl-horizontal>\n",
       "\t<dt>Boston[, i]</dt>\n",
       "\t\t<dd>-0.0739349774041235</dd>\n",
       "\t<dt>Boston[, i]</dt>\n",
       "\t\t<dd>0.509776331104231</dd>\n",
       "\t<dt>Boston[, i]</dt>\n",
       "\t\t<dd>-1.89277655080376</dd>\n",
       "\t<dt>Boston[, i]</dt>\n",
       "\t\t<dd>31.2485312011229</dd>\n",
       "\t<dt>Boston[, i]</dt>\n",
       "\t\t<dd>-2.68405122411395</dd>\n",
       "\t<dt>Boston[, i]</dt>\n",
       "\t\t<dd>0.107786227139533</dd>\n",
       "\t<dt>Boston[, i]</dt>\n",
       "\t\t<dd>-1.5509016824101</dd>\n",
       "\t<dt>Boston[, i]</dt>\n",
       "\t\t<dd>0.617910927327201</dd>\n",
       "\t<dt>Boston[, i]</dt>\n",
       "\t\t<dd>0.0297422528227654</dd>\n",
       "\t<dt>Boston[, i]</dt>\n",
       "\t\t<dd>1.15198278707058</dd>\n",
       "\t<dt>Boston[, i]</dt>\n",
       "\t\t<dd>-0.0362796405673307</dd>\n",
       "\t<dt>Boston[, i]</dt>\n",
       "\t\t<dd>0.548804782062398</dd>\n",
       "\t<dt>Boston[, i]</dt>\n",
       "\t\t<dd>-0.363159922257603</dd>\n",
       "</dl>\n"
      ],
      "text/latex": [
       "\\begin{description*}\n",
       "\\item[Boston\\{{[}\\}, i\\{{]}\\}] -0.0739349774041235\n",
       "\\item[Boston\\{{[}\\}, i\\{{]}\\}] 0.509776331104231\n",
       "\\item[Boston\\{{[}\\}, i\\{{]}\\}] -1.89277655080376\n",
       "\\item[Boston\\{{[}\\}, i\\{{]}\\}] 31.2485312011229\n",
       "\\item[Boston\\{{[}\\}, i\\{{]}\\}] -2.68405122411395\n",
       "\\item[Boston\\{{[}\\}, i\\{{]}\\}] 0.107786227139533\n",
       "\\item[Boston\\{{[}\\}, i\\{{]}\\}] -1.5509016824101\n",
       "\\item[Boston\\{{[}\\}, i\\{{]}\\}] 0.617910927327201\n",
       "\\item[Boston\\{{[}\\}, i\\{{]}\\}] 0.0297422528227654\n",
       "\\item[Boston\\{{[}\\}, i\\{{]}\\}] 1.15198278707058\n",
       "\\item[Boston\\{{[}\\}, i\\{{]}\\}] -0.0362796405673307\n",
       "\\item[Boston\\{{[}\\}, i\\{{]}\\}] 0.548804782062398\n",
       "\\item[Boston\\{{[}\\}, i\\{{]}\\}] -0.363159922257603\n",
       "\\end{description*}\n"
      ],
      "text/markdown": [
       "Boston[, i]\n",
       ":   -0.0739349774041235Boston[, i]\n",
       ":   0.509776331104231Boston[, i]\n",
       ":   -1.89277655080376Boston[, i]\n",
       ":   31.2485312011229Boston[, i]\n",
       ":   -2.68405122411395Boston[, i]\n",
       ":   0.107786227139533Boston[, i]\n",
       ":   -1.5509016824101Boston[, i]\n",
       ":   0.617910927327201Boston[, i]\n",
       ":   0.0297422528227654Boston[, i]\n",
       ":   1.15198278707058Boston[, i]\n",
       ":   -0.0362796405673307Boston[, i]\n",
       ":   0.548804782062398Boston[, i]\n",
       ":   -0.363159922257603\n",
       "\n"
      ],
      "text/plain": [
       "Boston[, i] Boston[, i] Boston[, i] Boston[, i] Boston[, i] Boston[, i] \n",
       "-0.07393498  0.50977633 -1.89277655 31.24853120 -2.68405122  0.10778623 \n",
       "Boston[, i] Boston[, i] Boston[, i] Boston[, i] Boston[, i] Boston[, i] \n",
       "-1.55090168  0.61791093  0.02974225  1.15198279 -0.03627964  0.54880478 \n",
       "Boston[, i] \n",
       "-0.36315992 "
      ]
     },
     "metadata": {},
     "output_type": "display_data"
    }
   ],
   "source": [
    "coeff_vector <- vector()\n",
    "for(i in colnames(Boston)){\n",
    "    variable_fit = lm(Boston$crim ~ Boston[,i])\n",
    "    coeff_vector <- c(coeff_vector, variable_fit$coefficient[2])\n",
    "}\n",
    "coeff_vector <- coeff_vector[-1]\n",
    "coeff_vector"
   ]
  },
  {
   "cell_type": "code",
   "execution_count": 79,
   "id": "behavioral-happiness",
   "metadata": {},
   "outputs": [
    {
     "data": {
      "text/html": [
       "<dl class=dl-horizontal>\n",
       "\t<dt>zn</dt>\n",
       "\t\t<dd>0.0448552146700322</dd>\n",
       "\t<dt>indus</dt>\n",
       "\t\t<dd>-0.0638548235876992</dd>\n",
       "\t<dt>chas</dt>\n",
       "\t\t<dd>-0.749133610510599</dd>\n",
       "\t<dt>nox</dt>\n",
       "\t\t<dd>-10.3135349120667</dd>\n",
       "\t<dt>rm</dt>\n",
       "\t\t<dd>0.430130505864047</dd>\n",
       "\t<dt>age</dt>\n",
       "\t\t<dd>0.00145164343618209</dd>\n",
       "\t<dt>dis</dt>\n",
       "\t\t<dd>-0.987175725502888</dd>\n",
       "\t<dt>rad</dt>\n",
       "\t\t<dd>0.588208591473491</dd>\n",
       "\t<dt>tax</dt>\n",
       "\t\t<dd>-0.00378001638485915</dd>\n",
       "\t<dt>ptratio</dt>\n",
       "\t\t<dd>-0.271080558472254</dd>\n",
       "\t<dt>black</dt>\n",
       "\t\t<dd>-0.00753750488849204</dd>\n",
       "\t<dt>lstat</dt>\n",
       "\t\t<dd>0.1262113764595</dd>\n",
       "\t<dt>medv</dt>\n",
       "\t\t<dd>-0.198886821265619</dd>\n",
       "</dl>\n"
      ],
      "text/latex": [
       "\\begin{description*}\n",
       "\\item[zn] 0.0448552146700322\n",
       "\\item[indus] -0.0638548235876992\n",
       "\\item[chas] -0.749133610510599\n",
       "\\item[nox] -10.3135349120667\n",
       "\\item[rm] 0.430130505864047\n",
       "\\item[age] 0.00145164343618209\n",
       "\\item[dis] -0.987175725502888\n",
       "\\item[rad] 0.588208591473491\n",
       "\\item[tax] -0.00378001638485915\n",
       "\\item[ptratio] -0.271080558472254\n",
       "\\item[black] -0.00753750488849204\n",
       "\\item[lstat] 0.1262113764595\n",
       "\\item[medv] -0.198886821265619\n",
       "\\end{description*}\n"
      ],
      "text/markdown": [
       "zn\n",
       ":   0.0448552146700322indus\n",
       ":   -0.0638548235876992chas\n",
       ":   -0.749133610510599nox\n",
       ":   -10.3135349120667rm\n",
       ":   0.430130505864047age\n",
       ":   0.00145164343618209dis\n",
       ":   -0.987175725502888rad\n",
       ":   0.588208591473491tax\n",
       ":   -0.00378001638485915ptratio\n",
       ":   -0.271080558472254black\n",
       ":   -0.00753750488849204lstat\n",
       ":   0.1262113764595medv\n",
       ":   -0.198886821265619\n",
       "\n"
      ],
      "text/plain": [
       "           zn         indus          chas           nox            rm \n",
       "  0.044855215  -0.063854824  -0.749133611 -10.313534912   0.430130506 \n",
       "          age           dis           rad           tax       ptratio \n",
       "  0.001451643  -0.987175726   0.588208591  -0.003780016  -0.271080558 \n",
       "        black         lstat          medv \n",
       " -0.007537505   0.126211376  -0.198886821 "
      ]
     },
     "metadata": {},
     "output_type": "display_data"
    }
   ],
   "source": [
    "all_var <- vector()\n",
    "all_var <- c(all_var, model$coefficients)\n",
    "all_var <- all_var[-1]\n",
    "all_var"
   ]
  },
  {
   "cell_type": "code",
   "execution_count": 82,
   "id": "unlike-idaho",
   "metadata": {},
   "outputs": [
    {
     "data": {
      "image/png": "[encoded data removed]",
      "text/plain": [
       "plot without title"
      ]
     },
     "metadata": {},
     "output_type": "display_data"
    }
   ],
   "source": [
    "plot(coeff_vector, all_var, col = \"blue\")"
   ]
  },
  {
   "cell_type": "markdown",
   "id": "biblical-danish",
   "metadata": {},
   "source": [
    "There is an obvious difference between the coefficients."
   ]
  },
  {
   "cell_type": "markdown",
   "id": "celtic-clinton",
   "metadata": {},
   "source": [
    "(d) Is there evidence of non-linear association between any of the predictors and the response? To answer this question, for each predictor X, fit a model of the form Y = β0 + β1X + β2X2 + β3X3 + e."
   ]
  },
  {
   "cell_type": "code",
   "execution_count": 90,
   "id": "narrative-dominican",
   "metadata": {},
   "outputs": [
    {
     "data": {
      "text/html": [
       "<ol class=list-inline>\n",
       "\t<li>'zn'</li>\n",
       "\t<li>'indus'</li>\n",
       "\t<li>'nox'</li>\n",
       "\t<li>'rm'</li>\n",
       "\t<li>'age'</li>\n",
       "\t<li>'dis'</li>\n",
       "\t<li>'rad'</li>\n",
       "\t<li>'tax'</li>\n",
       "\t<li>'ptratio'</li>\n",
       "\t<li>'black'</li>\n",
       "\t<li>'lstat'</li>\n",
       "\t<li>'medv'</li>\n",
       "</ol>\n"
      ],
      "text/latex": [
       "\\begin{enumerate*}\n",
       "\\item 'zn'\n",
       "\\item 'indus'\n",
       "\\item 'nox'\n",
       "\\item 'rm'\n",
       "\\item 'age'\n",
       "\\item 'dis'\n",
       "\\item 'rad'\n",
       "\\item 'tax'\n",
       "\\item 'ptratio'\n",
       "\\item 'black'\n",
       "\\item 'lstat'\n",
       "\\item 'medv'\n",
       "\\end{enumerate*}\n"
      ],
      "text/markdown": [
       "1. 'zn'\n",
       "2. 'indus'\n",
       "3. 'nox'\n",
       "4. 'rm'\n",
       "5. 'age'\n",
       "6. 'dis'\n",
       "7. 'rad'\n",
       "8. 'tax'\n",
       "9. 'ptratio'\n",
       "10. 'black'\n",
       "11. 'lstat'\n",
       "12. 'medv'\n",
       "\n",
       "\n"
      ],
      "text/plain": [
       " [1] \"zn\"      \"indus\"   \"nox\"     \"rm\"      \"age\"     \"dis\"     \"rad\"    \n",
       " [8] \"tax\"     \"ptratio\" \"black\"   \"lstat\"   \"medv\"   "
      ]
     },
     "metadata": {},
     "output_type": "display_data"
    }
   ],
   "source": [
    "cols <- colnames(Boston)[-c(1,4)]\n",
    "cols"
   ]
  },
  {
   "cell_type": "code",
   "execution_count": 91,
   "id": "younger-grave",
   "metadata": {},
   "outputs": [
    {
     "name": "stdout",
     "output_type": "stream",
     "text": [
      "[1] \"zn\"\n",
      "\n",
      "Call:\n",
      "lm(formula = Boston$crim ~ poly(Boston[, i], 3))\n",
      "\n",
      "Residuals:\n",
      "   Min     1Q Median     3Q    Max \n",
      "-4.821 -4.614 -1.294  0.473 84.130 \n",
      "\n",
      "Coefficients:\n",
      "                      Estimate Std. Error t value Pr(>|t|)    \n",
      "(Intercept)             3.6135     0.3722   9.709  < 2e-16 ***\n",
      "poly(Boston[, i], 3)1 -38.7498     8.3722  -4.628  4.7e-06 ***\n",
      "poly(Boston[, i], 3)2  23.9398     8.3722   2.859  0.00442 ** \n",
      "poly(Boston[, i], 3)3 -10.0719     8.3722  -1.203  0.22954    \n",
      "---\n",
      "Signif. codes:  0 '***' 0.001 '**' 0.01 '*' 0.05 '.' 0.1 ' ' 1\n",
      "\n",
      "Residual standard error: 8.372 on 502 degrees of freedom\n",
      "Multiple R-squared:  0.05824,\tAdjusted R-squared:  0.05261 \n",
      "F-statistic: 10.35 on 3 and 502 DF,  p-value: 1.281e-06\n",
      "\n",
      "[1] \"indus\"\n",
      "\n",
      "Call:\n",
      "lm(formula = Boston$crim ~ poly(Boston[, i], 3))\n",
      "\n",
      "Residuals:\n",
      "   Min     1Q Median     3Q    Max \n",
      "-8.278 -2.514  0.054  0.764 79.713 \n",
      "\n",
      "Coefficients:\n",
      "                      Estimate Std. Error t value Pr(>|t|)    \n",
      "(Intercept)              3.614      0.330  10.950  < 2e-16 ***\n",
      "poly(Boston[, i], 3)1   78.591      7.423  10.587  < 2e-16 ***\n",
      "poly(Boston[, i], 3)2  -24.395      7.423  -3.286  0.00109 ** \n",
      "poly(Boston[, i], 3)3  -54.130      7.423  -7.292  1.2e-12 ***\n",
      "---\n",
      "Signif. codes:  0 '***' 0.001 '**' 0.01 '*' 0.05 '.' 0.1 ' ' 1\n",
      "\n",
      "Residual standard error: 7.423 on 502 degrees of freedom\n",
      "Multiple R-squared:  0.2597,\tAdjusted R-squared:  0.2552 \n",
      "F-statistic: 58.69 on 3 and 502 DF,  p-value: < 2.2e-16\n",
      "\n",
      "[1] \"nox\"\n",
      "\n",
      "Call:\n",
      "lm(formula = Boston$crim ~ poly(Boston[, i], 3))\n",
      "\n",
      "Residuals:\n",
      "   Min     1Q Median     3Q    Max \n",
      "-9.110 -2.068 -0.255  0.739 78.302 \n",
      "\n",
      "Coefficients:\n",
      "                      Estimate Std. Error t value Pr(>|t|)    \n",
      "(Intercept)             3.6135     0.3216  11.237  < 2e-16 ***\n",
      "poly(Boston[, i], 3)1  81.3720     7.2336  11.249  < 2e-16 ***\n",
      "poly(Boston[, i], 3)2 -28.8286     7.2336  -3.985 7.74e-05 ***\n",
      "poly(Boston[, i], 3)3 -60.3619     7.2336  -8.345 6.96e-16 ***\n",
      "---\n",
      "Signif. codes:  0 '***' 0.001 '**' 0.01 '*' 0.05 '.' 0.1 ' ' 1\n",
      "\n",
      "Residual standard error: 7.234 on 502 degrees of freedom\n",
      "Multiple R-squared:  0.297,\tAdjusted R-squared:  0.2928 \n",
      "F-statistic: 70.69 on 3 and 502 DF,  p-value: < 2.2e-16\n",
      "\n",
      "[1] \"rm\"\n",
      "\n",
      "Call:\n",
      "lm(formula = Boston$crim ~ poly(Boston[, i], 3))\n",
      "\n",
      "Residuals:\n",
      "    Min      1Q  Median      3Q     Max \n",
      "-18.485  -3.468  -2.221  -0.015  87.219 \n",
      "\n",
      "Coefficients:\n",
      "                      Estimate Std. Error t value Pr(>|t|)    \n",
      "(Intercept)             3.6135     0.3703   9.758  < 2e-16 ***\n",
      "poly(Boston[, i], 3)1 -42.3794     8.3297  -5.088 5.13e-07 ***\n",
      "poly(Boston[, i], 3)2  26.5768     8.3297   3.191  0.00151 ** \n",
      "poly(Boston[, i], 3)3  -5.5103     8.3297  -0.662  0.50858    \n",
      "---\n",
      "Signif. codes:  0 '***' 0.001 '**' 0.01 '*' 0.05 '.' 0.1 ' ' 1\n",
      "\n",
      "Residual standard error: 8.33 on 502 degrees of freedom\n",
      "Multiple R-squared:  0.06779,\tAdjusted R-squared:  0.06222 \n",
      "F-statistic: 12.17 on 3 and 502 DF,  p-value: 1.067e-07\n",
      "\n",
      "[1] \"age\"\n",
      "\n",
      "Call:\n",
      "lm(formula = Boston$crim ~ poly(Boston[, i], 3))\n",
      "\n",
      "Residuals:\n",
      "   Min     1Q Median     3Q    Max \n",
      "-9.762 -2.673 -0.516  0.019 82.842 \n",
      "\n",
      "Coefficients:\n",
      "                      Estimate Std. Error t value Pr(>|t|)    \n",
      "(Intercept)             3.6135     0.3485  10.368  < 2e-16 ***\n",
      "poly(Boston[, i], 3)1  68.1820     7.8397   8.697  < 2e-16 ***\n",
      "poly(Boston[, i], 3)2  37.4845     7.8397   4.781 2.29e-06 ***\n",
      "poly(Boston[, i], 3)3  21.3532     7.8397   2.724  0.00668 ** \n",
      "---\n",
      "Signif. codes:  0 '***' 0.001 '**' 0.01 '*' 0.05 '.' 0.1 ' ' 1\n",
      "\n",
      "Residual standard error: 7.84 on 502 degrees of freedom\n",
      "Multiple R-squared:  0.1742,\tAdjusted R-squared:  0.1693 \n",
      "F-statistic: 35.31 on 3 and 502 DF,  p-value: < 2.2e-16\n",
      "\n",
      "[1] \"dis\"\n",
      "\n",
      "Call:\n",
      "lm(formula = Boston$crim ~ poly(Boston[, i], 3))\n",
      "\n",
      "Residuals:\n",
      "    Min      1Q  Median      3Q     Max \n",
      "-10.757  -2.588   0.031   1.267  76.378 \n",
      "\n",
      "Coefficients:\n",
      "                      Estimate Std. Error t value Pr(>|t|)    \n",
      "(Intercept)             3.6135     0.3259  11.087  < 2e-16 ***\n",
      "poly(Boston[, i], 3)1 -73.3886     7.3315 -10.010  < 2e-16 ***\n",
      "poly(Boston[, i], 3)2  56.3730     7.3315   7.689 7.87e-14 ***\n",
      "poly(Boston[, i], 3)3 -42.6219     7.3315  -5.814 1.09e-08 ***\n",
      "---\n",
      "Signif. codes:  0 '***' 0.001 '**' 0.01 '*' 0.05 '.' 0.1 ' ' 1\n",
      "\n",
      "Residual standard error: 7.331 on 502 degrees of freedom\n",
      "Multiple R-squared:  0.2778,\tAdjusted R-squared:  0.2735 \n",
      "F-statistic: 64.37 on 3 and 502 DF,  p-value: < 2.2e-16\n",
      "\n",
      "[1] \"rad\"\n",
      "\n",
      "Call:\n",
      "lm(formula = Boston$crim ~ poly(Boston[, i], 3))\n",
      "\n",
      "Residuals:\n",
      "    Min      1Q  Median      3Q     Max \n",
      "-10.381  -0.412  -0.269   0.179  76.217 \n",
      "\n",
      "Coefficients:\n",
      "                      Estimate Std. Error t value Pr(>|t|)    \n",
      "(Intercept)             3.6135     0.2971  12.164  < 2e-16 ***\n",
      "poly(Boston[, i], 3)1 120.9074     6.6824  18.093  < 2e-16 ***\n",
      "poly(Boston[, i], 3)2  17.4923     6.6824   2.618  0.00912 ** \n",
      "poly(Boston[, i], 3)3   4.6985     6.6824   0.703  0.48231    \n",
      "---\n",
      "Signif. codes:  0 '***' 0.001 '**' 0.01 '*' 0.05 '.' 0.1 ' ' 1\n",
      "\n",
      "Residual standard error: 6.682 on 502 degrees of freedom\n",
      "Multiple R-squared:    0.4,\tAdjusted R-squared:  0.3965 \n",
      "F-statistic: 111.6 on 3 and 502 DF,  p-value: < 2.2e-16\n",
      "\n",
      "[1] \"tax\"\n",
      "\n",
      "Call:\n",
      "lm(formula = Boston$crim ~ poly(Boston[, i], 3))\n",
      "\n",
      "Residuals:\n",
      "    Min      1Q  Median      3Q     Max \n",
      "-13.273  -1.389   0.046   0.536  76.950 \n",
      "\n",
      "Coefficients:\n",
      "                      Estimate Std. Error t value Pr(>|t|)    \n",
      "(Intercept)             3.6135     0.3047  11.860  < 2e-16 ***\n",
      "poly(Boston[, i], 3)1 112.6458     6.8537  16.436  < 2e-16 ***\n",
      "poly(Boston[, i], 3)2  32.0873     6.8537   4.682 3.67e-06 ***\n",
      "poly(Boston[, i], 3)3  -7.9968     6.8537  -1.167    0.244    \n",
      "---\n",
      "Signif. codes:  0 '***' 0.001 '**' 0.01 '*' 0.05 '.' 0.1 ' ' 1\n",
      "\n",
      "Residual standard error: 6.854 on 502 degrees of freedom\n",
      "Multiple R-squared:  0.3689,\tAdjusted R-squared:  0.3651 \n",
      "F-statistic:  97.8 on 3 and 502 DF,  p-value: < 2.2e-16\n",
      "\n",
      "[1] \"ptratio\"\n",
      "\n",
      "Call:\n",
      "lm(formula = Boston$crim ~ poly(Boston[, i], 3))\n",
      "\n",
      "Residuals:\n",
      "   Min     1Q Median     3Q    Max \n",
      "-6.833 -4.146 -1.655  1.408 82.697 \n",
      "\n",
      "Coefficients:\n",
      "                      Estimate Std. Error t value Pr(>|t|)    \n",
      "(Intercept)              3.614      0.361  10.008  < 2e-16 ***\n",
      "poly(Boston[, i], 3)1   56.045      8.122   6.901 1.57e-11 ***\n",
      "poly(Boston[, i], 3)2   24.775      8.122   3.050  0.00241 ** \n",
      "poly(Boston[, i], 3)3  -22.280      8.122  -2.743  0.00630 ** \n",
      "---\n",
      "Signif. codes:  0 '***' 0.001 '**' 0.01 '*' 0.05 '.' 0.1 ' ' 1\n",
      "\n",
      "Residual standard error: 8.122 on 502 degrees of freedom\n",
      "Multiple R-squared:  0.1138,\tAdjusted R-squared:  0.1085 \n",
      "F-statistic: 21.48 on 3 and 502 DF,  p-value: 4.171e-13\n",
      "\n",
      "[1] \"black\"\n",
      "\n",
      "Call:\n",
      "lm(formula = Boston$crim ~ poly(Boston[, i], 3))\n",
      "\n",
      "Residuals:\n",
      "    Min      1Q  Median      3Q     Max \n",
      "-13.096  -2.343  -2.128  -1.439  86.790 \n",
      "\n",
      "Coefficients:\n",
      "                      Estimate Std. Error t value Pr(>|t|)    \n",
      "(Intercept)             3.6135     0.3536  10.218   <2e-16 ***\n",
      "poly(Boston[, i], 3)1 -74.4312     7.9546  -9.357   <2e-16 ***\n",
      "poly(Boston[, i], 3)2   5.9264     7.9546   0.745    0.457    \n",
      "poly(Boston[, i], 3)3  -4.8346     7.9546  -0.608    0.544    \n",
      "---\n",
      "Signif. codes:  0 '***' 0.001 '**' 0.01 '*' 0.05 '.' 0.1 ' ' 1\n",
      "\n",
      "Residual standard error: 7.955 on 502 degrees of freedom\n",
      "Multiple R-squared:  0.1498,\tAdjusted R-squared:  0.1448 \n",
      "F-statistic: 29.49 on 3 and 502 DF,  p-value: < 2.2e-16\n",
      "\n",
      "[1] \"lstat\"\n",
      "\n",
      "Call:\n",
      "lm(formula = Boston$crim ~ poly(Boston[, i], 3))\n",
      "\n",
      "Residuals:\n",
      "    Min      1Q  Median      3Q     Max \n",
      "-15.234  -2.151  -0.486   0.066  83.353 \n",
      "\n",
      "Coefficients:\n",
      "                      Estimate Std. Error t value Pr(>|t|)    \n",
      "(Intercept)             3.6135     0.3392  10.654   <2e-16 ***\n",
      "poly(Boston[, i], 3)1  88.0697     7.6294  11.543   <2e-16 ***\n",
      "poly(Boston[, i], 3)2  15.8882     7.6294   2.082   0.0378 *  \n",
      "poly(Boston[, i], 3)3 -11.5740     7.6294  -1.517   0.1299    \n",
      "---\n",
      "Signif. codes:  0 '***' 0.001 '**' 0.01 '*' 0.05 '.' 0.1 ' ' 1\n",
      "\n",
      "Residual standard error: 7.629 on 502 degrees of freedom\n",
      "Multiple R-squared:  0.2179,\tAdjusted R-squared:  0.2133 \n",
      "F-statistic: 46.63 on 3 and 502 DF,  p-value: < 2.2e-16\n",
      "\n",
      "[1] \"medv\"\n",
      "\n",
      "Call:\n",
      "lm(formula = Boston$crim ~ poly(Boston[, i], 3))\n",
      "\n",
      "Residuals:\n",
      "    Min      1Q  Median      3Q     Max \n",
      "-24.427  -1.976  -0.437   0.439  73.655 \n",
      "\n",
      "Coefficients:\n",
      "                      Estimate Std. Error t value Pr(>|t|)    \n",
      "(Intercept)              3.614      0.292  12.374  < 2e-16 ***\n",
      "poly(Boston[, i], 3)1  -75.058      6.569 -11.426  < 2e-16 ***\n",
      "poly(Boston[, i], 3)2   88.086      6.569  13.409  < 2e-16 ***\n",
      "poly(Boston[, i], 3)3  -48.033      6.569  -7.312 1.05e-12 ***\n",
      "---\n",
      "Signif. codes:  0 '***' 0.001 '**' 0.01 '*' 0.05 '.' 0.1 ' ' 1\n",
      "\n",
      "Residual standard error: 6.569 on 502 degrees of freedom\n",
      "Multiple R-squared:  0.4202,\tAdjusted R-squared:  0.4167 \n",
      "F-statistic: 121.3 on 3 and 502 DF,  p-value: < 2.2e-16\n",
      "\n"
     ]
    }
   ],
   "source": [
    "\n",
    "for(i in cols){\n",
    "    variable_fit = lm(Boston$crim ~ poly(Boston[,i],3))\n",
    "    print(i)\n",
    "    print(summary(variable_fit))\n",
    "    #print(i)\n",
    "}"
   ]
  },
  {
   "cell_type": "markdown",
   "id": "numeric-homeless",
   "metadata": {},
   "source": [
    "\"zn\", \"rm\", \"rad\", \"tax\", \"lstat\", \"black\" : Third degree non-linear fit is not a good fit.\n",
    "\n",
    "\"indus\", \"nox\", \"age\", \"dis\", \"ptratio\", \"medv\" : Third degree linear fit is a good fit."
   ]
  }
 ],
 "metadata": {
  "kernelspec": {
   "display_name": "R",
   "language": "R",
   "name": "ir"
  },
  "language_info": {
   "codemirror_mode": "r",
   "file_extension": ".r",
   "mimetype": "text/x-r-source",
   "name": "R",
   "pygments_lexer": "r",
   "version": "3.6.1"
  }
 },
 "nbformat": 4,
 "nbformat_minor": 5
}
